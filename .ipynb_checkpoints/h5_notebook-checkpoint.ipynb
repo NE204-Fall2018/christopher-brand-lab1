{
 "cells": [
  {
   "cell_type": "markdown",
   "metadata": {},
   "source": [
    "### Make sure you have h5py installed \n",
    "\n",
    "If you are running an anaconda distribution:\n",
    "```\n",
    "conda install h5py\n",
    "```\n",
    "Else:\n",
    "```\n",
    "pip install h5py\n",
    "```"
   ]
  },
  {
   "cell_type": "code",
   "execution_count": 2,
   "metadata": {},
   "outputs": [],
   "source": [
    "import numpy as np\n",
    "import matplotlib.pyplot as plt\n",
    "import pandas as pd\n",
    "\n",
    "\n",
    "import h5py\n",
    "import os\n",
    "\n",
    "%matplotlib notebook\n",
    "\n"
   ]
  },
  {
   "cell_type": "markdown",
   "metadata": {},
   "source": [
    "#### Importing the '.dat' file"
   ]
  },
  {
   "cell_type": "code",
   "execution_count": 16,
   "metadata": {},
   "outputs": [],
   "source": [
    "filename = 'DAT.h5'  #wherever your file is \n",
    "data = h5py.File(filename, 'r')"
   ]
  },
  {
   "cell_type": "markdown",
   "metadata": {},
   "source": [
    "### Sample Data Pull\n",
    "Gives basic information about what type of data is in the hd5 file and what it looks like\n",
    "\n",
    "#### There are different keys within hd5 files\n",
    "Using the h5 output from the CCI2 parser, there should be two, \"EventData\" and \"RawData\""
   ]
  },
  {
   "cell_type": "code",
   "execution_count": 7,
   "metadata": {},
   "outputs": [
    {
     "data": {
      "text/plain": [
       "2"
      ]
     },
     "execution_count": 7,
     "metadata": {},
     "output_type": "execute_result"
    }
   ],
   "source": [
    "len(data.keys())"
   ]
  },
  {
   "cell_type": "code",
   "execution_count": 17,
   "metadata": {},
   "outputs": [
    {
     "name": "stdout",
     "output_type": "stream",
     "text": [
      "EventData\n",
      "3332 Size of key\n",
      "<HDF5 dataset \"EventData\": shape (3332,), type \"|V24\">\n",
      "[(43153917, 437385., 0, 1, 0, 0, 20) (43931032, 252974., 0, 1, 0, 0, 21)\n",
      " (47803470, 306133., 0, 1, 0, 0, 22)]\n",
      "---------------------------------------------------------\n",
      "RawData\n",
      "3332 Size of key\n",
      "<HDF5 dataset \"RawData\": shape (3332, 4096), type \"<i4\">\n",
      "[[31341 31341 31332 ... 31930 31927 31932]\n",
      " [31341 31334 31337 ... 31793 31782 31788]\n",
      " [31353 31355 31348 ... 31757 31757 31755]]\n",
      "---------------------------------------------------------\n"
     ]
    }
   ],
   "source": [
    "for u in data.keys():\n",
    "    print(u)  #Names of the groups in HDF5 file.\n",
    "    print(len(data[u]), 'Size of key')\n",
    "    print(data[u])\n",
    "    print(data[u][20:23])\n",
    "    print('---------------------------------------------------------')"
   ]
  },
  {
   "cell_type": "markdown",
   "metadata": {},
   "source": [
    "#### Plot of one signal"
   ]
  },
  {
   "cell_type": "code",
   "execution_count": 14,
   "metadata": {},
   "outputs": [
    {
     "data": {
      "image/png": "[encoded data removed]",
      "text/plain": [
       "<matplotlib.figure.Figure at 0x7fdbf8042e80>"
      ]
     },
     "metadata": {},
     "output_type": "display_data"
    }
   ],
   "source": [
    "plt.plot(data['RawData'][2,:])\n",
    "plt.show()"
   ]
  },
  {
   "cell_type": "markdown",
   "metadata": {},
   "source": [
    "### Starting the filter\n",
    "Using the data from one signal, start building filter to process this one data set then expand to rest of data"
   ]
  },
  {
   "cell_type": "code",
   "execution_count": 20,
   "metadata": {},
   "outputs": [
    {
     "data": {
      "text/plain": [
       "4096"
      ]
     },
     "execution_count": 20,
     "metadata": {},
     "output_type": "execute_result"
    }
   ],
   "source": [
    "mysignal = data['RawData'][2,:]\n",
    "n_data = len(mysignal)\n",
    "n_data"
   ]
  },
  {
   "cell_type": "code",
   "execution_count": 22,
   "metadata": {},
   "outputs": [
    {
     "data": {
      "text/plain": [
       "(4096,)"
      ]
     },
     "execution_count": 22,
     "metadata": {},
     "output_type": "execute_result"
    }
   ],
   "source": [
    "mysignal.shape"
   ]
  },
  {
   "cell_type": "code",
   "execution_count": 23,
   "metadata": {},
   "outputs": [
    {
     "data": {
      "text/plain": [
       "array([31338, 31338, 31335, ..., 31627, 31627, 31620], dtype=int32)"
      ]
     },
     "execution_count": 23,
     "metadata": {},
     "output_type": "execute_result"
    }
   ],
   "source": [
    "mysignal"
   ]
  },
  {
   "cell_type": "code",
   "execution_count": null,
   "metadata": {
    "collapsed": true
   },
   "outputs": [],
   "source": []
  }
 ],
 "metadata": {
  "kernelspec": {
   "display_name": "Python 3",
   "language": "python",
   "name": "python3"
  },
  "language_info": {
   "codemirror_mode": {
    "name": "ipython",
    "version": 3
   },
   "file_extension": ".py",
   "mimetype": "text/x-python",
   "name": "python",
   "nbconvert_exporter": "python",
   "pygments_lexer": "ipython3",
   "version": "3.5.6"
  }
 },
 "nbformat": 4,
 "nbformat_minor": 2
}
