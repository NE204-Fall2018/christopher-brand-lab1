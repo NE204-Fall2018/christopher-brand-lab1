{
 "cells": [
  {
   "cell_type": "code",
   "execution_count": 42,
   "metadata": {},
   "outputs": [],
   "source": [
    "import numpy as np\n",
    "import matplotlib.pyplot as plt\n",
    "import pandas as pd\n",
    "from scipy.optimize import curve_fit\n",
    "from datetime import datetime\n",
    "from numba import jit\n",
    "\n",
    "import tables\n",
    "import os"
   ]
  },
  {
   "cell_type": "code",
   "execution_count": 48,
   "metadata": {},
   "outputs": [
    {
     "name": "stdout",
     "output_type": "stream",
     "text": [
      "cs137_co60.h5 (File) ''\n",
      "Last modif.: 'Sun Sep 30 12:17:15 2018'\n",
      "Object Tree: \n",
      "/ (RootGroup) ''\n",
      "/EventData (Table(83439,), shuffle, zlib(1)) ''\n",
      "/RawData (EArray(83439, 4096), shuffle, zlib(1)) ''\n",
      "\n",
      "83439\n"
     ]
    },
    {
     "data": {
      "image/png": "[encoded data removed]",
      "text/plain": [
       "<Figure size 432x288 with 1 Axes>"
      ]
     },
     "metadata": {
      "needs_background": "light"
     },
     "output_type": "display_data"
    },
    {
     "data": {
      "image/png": "[encoded data removed]",
      "text/plain": [
       "<Figure size 432x288 with 1 Axes>"
      ]
     },
     "metadata": {
      "needs_background": "light"
     },
     "output_type": "display_data"
    }
   ],
   "source": [
    "h5file = tables.open_file(\"cs137_co60.h5\", driver=\"H5FD_CORE\")\n",
    "print(h5file)\n",
    "data = h5file.root.RawData\n",
    "EventData = h5file.root.EventData\n",
    "print(len(EventData))\n",
    "\n",
    "\n",
    "\n",
    "plt.figure()\n",
    "plt.plot(data[2422,:])\n",
    "plt.figure()\n",
    "plt.plot(np.gradient(data[2422,:]))\n",
    "plt.show()"
   ]
  },
  {
   "cell_type": "code",
   "execution_count": 53,
   "metadata": {},
   "outputs": [
    {
     "name": "stdout",
     "output_type": "stream",
     "text": [
      "/RawData (EArray(83439, 4096), shuffle, zlib(1)) ''\n",
      "999\n"
     ]
    },
    {
     "name": "stderr",
     "output_type": "stream",
     "text": [
      "/Users/DragonKnight/miniconda3/lib/python3.5/site-packages/ipykernel_launcher.py:16: DeprecationWarning: using a non-integer array as obj in delete will result in an error in the future\n",
      "  app.launch_new_instance()\n"
     ]
    },
    {
     "name": "stdout",
     "output_type": "stream",
     "text": [
      "deleted  999  signals due to pile up\n",
      "82440\n"
     ]
    }
   ],
   "source": [
    "# Find pulses that triggered multiple times and delete them\n",
    "i_pileup = 0\n",
    "j_pileup = 0\n",
    "pileup_args = np.array([])\n",
    "EventDataArray = np.array(EventData)\n",
    "\n",
    "for x in range(len(EventData)):\n",
    "    if int(EventData[x][3])>1:\n",
    "        pileup_args = np.append(pileup_args,i_pileup)\n",
    "        j_pileup = j_pileup+1  \n",
    "    i_pileup = i_pileup+1\n",
    "\n",
    "print(data)\n",
    "print(len(pileup_args))\n",
    "\n",
    "data = np.delete(data[:], pileup_args, 0)\n",
    "    \n",
    "print('deleted ', len(pileup_args),' signals due to pile up')\n",
    "print(len(data2))"
   ]
  },
  {
   "cell_type": "code",
   "execution_count": null,
   "metadata": {},
   "outputs": [],
   "source": []
  },
  {
   "cell_type": "code",
   "execution_count": 54,
   "metadata": {},
   "outputs": [],
   "source": [
    "@jit(parallel = True)\n",
    "def TrapFilter(mysignal,tau):\n",
    "    GradSignal = np.gradient(mysignal)\n",
    "    argPeak = np.argmax(GradSignal)\n",
    "    avgNoise = np.mean(mysignal[0:argPeak-5])\n",
    "    newSignal = mysignal - avgNoise\n",
    "#    \n",
    "#    @jit(parallel = True)\n",
    "#    def func(x, a, b):\n",
    "#        return a * np.exp(-b * x)\n",
    "#\n",
    "#    popt, pcov = curve_fit(func, range(0,len(newSignal)-argPeak), newSignal[argPeak:])\n",
    "#    tau = 1/popt[1]\n",
    "    \n",
    "    #signalOnly = newSignal[argPeak:]\n",
    "    signalOnly = newSignal\n",
    "    m=40\n",
    "    #k=int((len(signalOnly)-m)/2)\n",
    "    #k = peaking time\n",
    "    #m= Gap time (in samples)\n",
    "    k=100\n",
    "    M = tau\n",
    "    Acc1=0.0\n",
    "    Acc2=0.0\n",
    "    l =2*k+m\n",
    "    final = list(range(len(signalOnly)))\n",
    "    i=0\n",
    "    zeros = np.zeros(2*k+m)\n",
    "    extSignalOnly=np.append(zeros,signalOnly)\n",
    "    while i < len(signalOnly):\n",
    "        parta = extSignalOnly[i+(2*k+m)] - extSignalOnly[i-k+(2*k+m)]\n",
    "        partb = extSignalOnly[i-2*k-m+(2*k+m)] - extSignalOnly[i-k-m+(2*k+m)]\n",
    "        partc = parta + partb\n",
    "        Acc1 = Acc1+partc\n",
    "        partd = partc*M+Acc1\n",
    "        Acc2 = Acc2 + partd\n",
    "        final[i] = Acc2\n",
    "        i=i+1\n",
    "    \n",
    "    normFinal = np.array(final)\n",
    "    #/max(final)\n",
    "    return normFinal"
   ]
  },
  {
   "cell_type": "code",
   "execution_count": 55,
   "metadata": {},
   "outputs": [
    {
     "name": "stdout",
     "output_type": "stream",
     "text": [
      "82440\n",
      "0:00:07.538734\n"
     ]
    }
   ],
   "source": [
    "rows = len(data[:,0])\n",
    "print(rows)\n",
    "cols = len(data[0,:])\n",
    "mysignals = np.zeros((rows,cols))\n",
    "\n",
    "@jit(parallel = True)\n",
    "def makesignals(raw_data):\n",
    "    for j in range(0,rows):\n",
    "        mysignals[j] = data[j,:]\n",
    "    return mysignals\n",
    "\n",
    "startTime = datetime.now()\n",
    "\n",
    "mysignals = makesignals(data)\n",
    "\n",
    "print(datetime.now() - startTime)"
   ]
  },
  {
   "cell_type": "code",
   "execution_count": 56,
   "metadata": {},
   "outputs": [],
   "source": []
  },
  {
   "cell_type": "code",
   "execution_count": null,
   "metadata": {},
   "outputs": [],
   "source": []
  },
  {
   "cell_type": "code",
   "execution_count": 150,
   "metadata": {},
   "outputs": [],
   "source": [
    "\n",
    "#tau = np.zeros(events)\n",
    "#trap_out = np.zeros((events,cols))\n",
    "\n",
    "@jit(parallel = True)\n",
    "def eventsProcess(mysignal, events, cols):\n",
    "    tau = np.zeros(events)\n",
    "    startTime = datetime.now()\n",
    "    trap_out = np.zeros((events,cols))\n",
    "    for j in range(0,events):\n",
    "        print(j)\n",
    "        mysignal = mysignals[j,:]\n",
    "        GradSignal = np.gradient(mysignal)\n",
    "        argPeak = np.argmax(GradSignal)\n",
    "        avgNoise = np.mean(mysignal[0:900])\n",
    "        newSignal = mysignal - avgNoise\n",
    "    #    plt.figure()\n",
    "    #    plt.plot(newSignal)\n",
    "\n",
    "        @jit(parallel = True)\n",
    "        def func(x, a, b):\n",
    "            return a * np.exp(-b * x)\n",
    "\n",
    "        popt, pcov = curve_fit(func, range(0,len(newSignal)-1050), newSignal[1050:])\n",
    "    #    print(popt)\n",
    "        tau[j] = 1.0/popt[1]\n",
    "        trap_out[j] = TrapFilter(mysignals[j,:],6179.29)\n",
    "    print('Average Tau across all signals',np.mean(tau))\n",
    "    print(datetime.now() - startTime)\n",
    "    return trap_out"
   ]
  },
  {
   "cell_type": "code",
   "execution_count": 151,
   "metadata": {},
   "outputs": [
    {
     "ename": "LoweringError",
     "evalue": "Failed at object (object mode backend)\nmake_function(name=$const67.38, defaults=None, code=<code object func at 0x1033bea150, file \"<ipython-input-150-5e83d8d035a8>\", line 20>, closure=None)\n\nFile \"<ipython-input-150-5e83d8d035a8>\", line 20:\ndef eventsProcess(mysignal, events, cols):\n    <source elided>\n\n        @jit(parallel = True)\n        ^\n[1] During: lowering \"$67.39 = make_function(name=$const67.38, defaults=None, code=<code object func at 0x1033bea150, file \"<ipython-input-150-5e83d8d035a8>\", line 20>, closure=None)\" at <ipython-input-150-5e83d8d035a8> (20)\n-------------------------------------------------------------------------------\nThis should not have happened, a problem has occurred in Numba's internals.\n\nPlease report the error message and traceback, along with a minimal reproducer\nat: https://github.com/numba/numba/issues/new\n\nIf more help is needed please feel free to speak to the Numba core developers\ndirectly at: https://gitter.im/numba/numba\n\nThanks in advance for your help in improving Numba!\n",
     "output_type": "error",
     "traceback": [
      "\u001b[0;31m---------------------------------------------------------------------------\u001b[0m",
      "\u001b[0;31mNotImplementedError\u001b[0m                       Traceback (most recent call last)",
      "\u001b[0;32m~/miniconda3/lib/python3.5/site-packages/numba/errors.py\u001b[0m in \u001b[0;36mnew_error_context\u001b[0;34m(fmt_, *args, **kwargs)\u001b[0m\n\u001b[1;32m    576\u001b[0m     \u001b[0;32mtry\u001b[0m\u001b[0;34m:\u001b[0m\u001b[0;34m\u001b[0m\u001b[0m\n\u001b[0;32m--> 577\u001b[0;31m         \u001b[0;32myield\u001b[0m\u001b[0;34m\u001b[0m\u001b[0m\n\u001b[0m\u001b[1;32m    578\u001b[0m     \u001b[0;32mexcept\u001b[0m \u001b[0mNumbaError\u001b[0m \u001b[0;32mas\u001b[0m \u001b[0me\u001b[0m\u001b[0;34m:\u001b[0m\u001b[0;34m\u001b[0m\u001b[0m\n",
      "\u001b[0;32m~/miniconda3/lib/python3.5/site-packages/numba/lowering.py\u001b[0m in \u001b[0;36mlower_block\u001b[0;34m(self, block)\u001b[0m\n\u001b[1;32m    253\u001b[0m                                    loc=self.loc, errcls_=defaulterrcls):\n\u001b[0;32m--> 254\u001b[0;31m                 \u001b[0mself\u001b[0m\u001b[0;34m.\u001b[0m\u001b[0mlower_inst\u001b[0m\u001b[0;34m(\u001b[0m\u001b[0minst\u001b[0m\u001b[0;34m)\u001b[0m\u001b[0;34m\u001b[0m\u001b[0m\n\u001b[0m\u001b[1;32m    255\u001b[0m \u001b[0;34m\u001b[0m\u001b[0m\n",
      "\u001b[0;32m~/miniconda3/lib/python3.5/site-packages/numba/objmode.py\u001b[0m in \u001b[0;36mlower_inst\u001b[0;34m(self, inst)\u001b[0m\n\u001b[1;32m     64\u001b[0m         \u001b[0;32mif\u001b[0m \u001b[0misinstance\u001b[0m\u001b[0;34m(\u001b[0m\u001b[0minst\u001b[0m\u001b[0;34m,\u001b[0m \u001b[0mir\u001b[0m\u001b[0;34m.\u001b[0m\u001b[0mAssign\u001b[0m\u001b[0;34m)\u001b[0m\u001b[0;34m:\u001b[0m\u001b[0;34m\u001b[0m\u001b[0m\n\u001b[0;32m---> 65\u001b[0;31m             \u001b[0mvalue\u001b[0m \u001b[0;34m=\u001b[0m \u001b[0mself\u001b[0m\u001b[0;34m.\u001b[0m\u001b[0mlower_assign\u001b[0m\u001b[0;34m(\u001b[0m\u001b[0minst\u001b[0m\u001b[0;34m)\u001b[0m\u001b[0;34m\u001b[0m\u001b[0m\n\u001b[0m\u001b[1;32m     66\u001b[0m             \u001b[0mself\u001b[0m\u001b[0;34m.\u001b[0m\u001b[0mstorevar\u001b[0m\u001b[0;34m(\u001b[0m\u001b[0mvalue\u001b[0m\u001b[0;34m,\u001b[0m \u001b[0minst\u001b[0m\u001b[0;34m.\u001b[0m\u001b[0mtarget\u001b[0m\u001b[0;34m.\u001b[0m\u001b[0mname\u001b[0m\u001b[0;34m)\u001b[0m\u001b[0;34m\u001b[0m\u001b[0m\n",
      "\u001b[0;32m~/miniconda3/lib/python3.5/site-packages/numba/objmode.py\u001b[0m in \u001b[0;36mlower_assign\u001b[0;34m(self, inst)\u001b[0m\n\u001b[1;32m    158\u001b[0m         \u001b[0;32melif\u001b[0m \u001b[0misinstance\u001b[0m\u001b[0;34m(\u001b[0m\u001b[0mvalue\u001b[0m\u001b[0;34m,\u001b[0m \u001b[0mir\u001b[0m\u001b[0;34m.\u001b[0m\u001b[0mExpr\u001b[0m\u001b[0;34m)\u001b[0m\u001b[0;34m:\u001b[0m\u001b[0;34m\u001b[0m\u001b[0m\n\u001b[0;32m--> 159\u001b[0;31m             \u001b[0;32mreturn\u001b[0m \u001b[0mself\u001b[0m\u001b[0;34m.\u001b[0m\u001b[0mlower_expr\u001b[0m\u001b[0;34m(\u001b[0m\u001b[0mvalue\u001b[0m\u001b[0;34m)\u001b[0m\u001b[0;34m\u001b[0m\u001b[0m\n\u001b[0m\u001b[1;32m    160\u001b[0m         \u001b[0;32melif\u001b[0m \u001b[0misinstance\u001b[0m\u001b[0;34m(\u001b[0m\u001b[0mvalue\u001b[0m\u001b[0;34m,\u001b[0m \u001b[0mir\u001b[0m\u001b[0;34m.\u001b[0m\u001b[0mGlobal\u001b[0m\u001b[0;34m)\u001b[0m\u001b[0;34m:\u001b[0m\u001b[0;34m\u001b[0m\u001b[0m\n",
      "\u001b[0;32m~/miniconda3/lib/python3.5/site-packages/numba/objmode.py\u001b[0m in \u001b[0;36mlower_expr\u001b[0;34m(self, expr)\u001b[0m\n\u001b[1;32m    372\u001b[0m         \u001b[0;32melse\u001b[0m\u001b[0;34m:\u001b[0m\u001b[0;34m\u001b[0m\u001b[0m\n\u001b[0;32m--> 373\u001b[0;31m             \u001b[0;32mraise\u001b[0m \u001b[0mNotImplementedError\u001b[0m\u001b[0;34m(\u001b[0m\u001b[0mexpr\u001b[0m\u001b[0;34m)\u001b[0m\u001b[0;34m\u001b[0m\u001b[0m\n\u001b[0m\u001b[1;32m    374\u001b[0m \u001b[0;34m\u001b[0m\u001b[0m\n",
      "\u001b[0;31mNotImplementedError\u001b[0m: make_function(name=$const67.38, defaults=None, code=<code object func at 0x1033bea150, file \"<ipython-input-150-5e83d8d035a8>\", line 20>, closure=None)",
      "\nDuring handling of the above exception, another exception occurred:\n",
      "\u001b[0;31mLoweringError\u001b[0m                             Traceback (most recent call last)",
      "\u001b[0;32m<ipython-input-151-45fe9651de93>\u001b[0m in \u001b[0;36m<module>\u001b[0;34m()\u001b[0m\n\u001b[1;32m      1\u001b[0m \u001b[0mevents\u001b[0m \u001b[0;34m=\u001b[0m \u001b[0;36m20000\u001b[0m\u001b[0;34m\u001b[0m\u001b[0m\n\u001b[0;32m----> 2\u001b[0;31m \u001b[0mtrap_out\u001b[0m \u001b[0;34m=\u001b[0m \u001b[0meventsProcess\u001b[0m\u001b[0;34m(\u001b[0m\u001b[0mmysignal\u001b[0m\u001b[0;34m,\u001b[0m \u001b[0mevents\u001b[0m\u001b[0;34m,\u001b[0m \u001b[0mcols\u001b[0m\u001b[0;34m)\u001b[0m\u001b[0;34m\u001b[0m\u001b[0m\n\u001b[0m",
      "\u001b[0;32m~/miniconda3/lib/python3.5/site-packages/numba/dispatcher.py\u001b[0m in \u001b[0;36m_compile_for_args\u001b[0;34m(self, *args, **kws)\u001b[0m\n\u001b[1;32m    366\u001b[0m                     \u001b[0me\u001b[0m\u001b[0;34m.\u001b[0m\u001b[0mpatch_message\u001b[0m\u001b[0;34m(\u001b[0m\u001b[0;34m''\u001b[0m\u001b[0;34m.\u001b[0m\u001b[0mjoin\u001b[0m\u001b[0;34m(\u001b[0m\u001b[0me\u001b[0m\u001b[0;34m.\u001b[0m\u001b[0margs\u001b[0m\u001b[0;34m)\u001b[0m \u001b[0;34m+\u001b[0m \u001b[0mhelp_msg\u001b[0m\u001b[0;34m)\u001b[0m\u001b[0;34m\u001b[0m\u001b[0m\n\u001b[1;32m    367\u001b[0m             \u001b[0;31m# ignore the FULL_TRACEBACKS config, this needs reporting!\u001b[0m\u001b[0;34m\u001b[0m\u001b[0;34m\u001b[0m\u001b[0m\n\u001b[0;32m--> 368\u001b[0;31m             \u001b[0;32mraise\u001b[0m \u001b[0me\u001b[0m\u001b[0;34m\u001b[0m\u001b[0m\n\u001b[0m\u001b[1;32m    369\u001b[0m \u001b[0;34m\u001b[0m\u001b[0m\n\u001b[1;32m    370\u001b[0m     \u001b[0;32mdef\u001b[0m \u001b[0minspect_llvm\u001b[0m\u001b[0;34m(\u001b[0m\u001b[0mself\u001b[0m\u001b[0;34m,\u001b[0m \u001b[0msignature\u001b[0m\u001b[0;34m=\u001b[0m\u001b[0;32mNone\u001b[0m\u001b[0;34m)\u001b[0m\u001b[0;34m:\u001b[0m\u001b[0;34m\u001b[0m\u001b[0m\n",
      "\u001b[0;32m~/miniconda3/lib/python3.5/site-packages/numba/dispatcher.py\u001b[0m in \u001b[0;36m_compile_for_args\u001b[0;34m(self, *args, **kws)\u001b[0m\n\u001b[1;32m    323\u001b[0m                 \u001b[0margtypes\u001b[0m\u001b[0;34m.\u001b[0m\u001b[0mappend\u001b[0m\u001b[0;34m(\u001b[0m\u001b[0mself\u001b[0m\u001b[0;34m.\u001b[0m\u001b[0mtypeof_pyval\u001b[0m\u001b[0;34m(\u001b[0m\u001b[0ma\u001b[0m\u001b[0;34m)\u001b[0m\u001b[0;34m)\u001b[0m\u001b[0;34m\u001b[0m\u001b[0m\n\u001b[1;32m    324\u001b[0m         \u001b[0;32mtry\u001b[0m\u001b[0;34m:\u001b[0m\u001b[0;34m\u001b[0m\u001b[0m\n\u001b[0;32m--> 325\u001b[0;31m             \u001b[0;32mreturn\u001b[0m \u001b[0mself\u001b[0m\u001b[0;34m.\u001b[0m\u001b[0mcompile\u001b[0m\u001b[0;34m(\u001b[0m\u001b[0mtuple\u001b[0m\u001b[0;34m(\u001b[0m\u001b[0margtypes\u001b[0m\u001b[0;34m)\u001b[0m\u001b[0;34m)\u001b[0m\u001b[0;34m\u001b[0m\u001b[0m\n\u001b[0m\u001b[1;32m    326\u001b[0m         \u001b[0;32mexcept\u001b[0m \u001b[0merrors\u001b[0m\u001b[0;34m.\u001b[0m\u001b[0mTypingError\u001b[0m \u001b[0;32mas\u001b[0m \u001b[0me\u001b[0m\u001b[0;34m:\u001b[0m\u001b[0;34m\u001b[0m\u001b[0m\n\u001b[1;32m    327\u001b[0m             \u001b[0;31m# Intercept typing error that may be due to an argument\u001b[0m\u001b[0;34m\u001b[0m\u001b[0;34m\u001b[0m\u001b[0m\n",
      "\u001b[0;32m~/miniconda3/lib/python3.5/site-packages/numba/dispatcher.py\u001b[0m in \u001b[0;36mcompile\u001b[0;34m(self, sig)\u001b[0m\n\u001b[1;32m    732\u001b[0m                                            \u001b[0mflags\u001b[0m\u001b[0;34m=\u001b[0m\u001b[0mflags\u001b[0m\u001b[0;34m,\u001b[0m \u001b[0mlocals\u001b[0m\u001b[0;34m=\u001b[0m\u001b[0mself\u001b[0m\u001b[0;34m.\u001b[0m\u001b[0mlocals\u001b[0m\u001b[0;34m,\u001b[0m\u001b[0;34m\u001b[0m\u001b[0m\n\u001b[1;32m    733\u001b[0m                                            \u001b[0mlifted\u001b[0m\u001b[0;34m=\u001b[0m\u001b[0;34m(\u001b[0m\u001b[0;34m)\u001b[0m\u001b[0;34m,\u001b[0m\u001b[0;34m\u001b[0m\u001b[0m\n\u001b[0;32m--> 734\u001b[0;31m                                            lifted_from=self.lifted_from)\n\u001b[0m\u001b[1;32m    735\u001b[0m \u001b[0;34m\u001b[0m\u001b[0m\n\u001b[1;32m    736\u001b[0m                 \u001b[0;31m# Check typing error if object mode is used\u001b[0m\u001b[0;34m\u001b[0m\u001b[0;34m\u001b[0m\u001b[0m\n",
      "\u001b[0;32m~/miniconda3/lib/python3.5/site-packages/numba/compiler.py\u001b[0m in \u001b[0;36mcompile_ir\u001b[0;34m(typingctx, targetctx, func_ir, args, return_type, flags, locals, lifted, lifted_from, library)\u001b[0m\n\u001b[1;32m    885\u001b[0m                         args, return_type, flags, locals)\n\u001b[1;32m    886\u001b[0m     return pipeline.compile_ir(func_ir=func_ir, lifted=lifted,\n\u001b[0;32m--> 887\u001b[0;31m                                lifted_from=lifted_from)\n\u001b[0m\u001b[1;32m    888\u001b[0m \u001b[0;34m\u001b[0m\u001b[0m\n\u001b[1;32m    889\u001b[0m \u001b[0;34m\u001b[0m\u001b[0m\n",
      "\u001b[0;32m~/miniconda3/lib/python3.5/site-packages/numba/compiler.py\u001b[0m in \u001b[0;36mcompile_ir\u001b[0;34m(self, func_ir, lifted, lifted_from)\u001b[0m\n\u001b[1;32m    373\u001b[0m \u001b[0;34m\u001b[0m\u001b[0m\n\u001b[1;32m    374\u001b[0m         \u001b[0mself\u001b[0m\u001b[0;34m.\u001b[0m\u001b[0m_set_and_check_ir\u001b[0m\u001b[0;34m(\u001b[0m\u001b[0mfunc_ir\u001b[0m\u001b[0;34m)\u001b[0m\u001b[0;34m\u001b[0m\u001b[0m\n\u001b[0;32m--> 375\u001b[0;31m         \u001b[0;32mreturn\u001b[0m \u001b[0mself\u001b[0m\u001b[0;34m.\u001b[0m\u001b[0m_compile_ir\u001b[0m\u001b[0;34m(\u001b[0m\u001b[0;34m)\u001b[0m\u001b[0;34m\u001b[0m\u001b[0m\n\u001b[0m\u001b[1;32m    376\u001b[0m \u001b[0;34m\u001b[0m\u001b[0m\n\u001b[1;32m    377\u001b[0m     \u001b[0;32mdef\u001b[0m \u001b[0mstage_analyze_bytecode\u001b[0m\u001b[0;34m(\u001b[0m\u001b[0mself\u001b[0m\u001b[0;34m)\u001b[0m\u001b[0;34m:\u001b[0m\u001b[0;34m\u001b[0m\u001b[0m\n",
      "\u001b[0;32m~/miniconda3/lib/python3.5/site-packages/numba/compiler.py\u001b[0m in \u001b[0;36m_compile_ir\u001b[0;34m(self)\u001b[0m\n\u001b[1;32m    809\u001b[0m         \"\"\"\n\u001b[1;32m    810\u001b[0m         \u001b[0;32massert\u001b[0m \u001b[0mself\u001b[0m\u001b[0;34m.\u001b[0m\u001b[0mfunc_ir\u001b[0m \u001b[0;32mis\u001b[0m \u001b[0;32mnot\u001b[0m \u001b[0;32mNone\u001b[0m\u001b[0;34m\u001b[0m\u001b[0m\n\u001b[0;32m--> 811\u001b[0;31m         \u001b[0;32mreturn\u001b[0m \u001b[0mself\u001b[0m\u001b[0;34m.\u001b[0m\u001b[0m_compile_core\u001b[0m\u001b[0;34m(\u001b[0m\u001b[0;34m)\u001b[0m\u001b[0;34m\u001b[0m\u001b[0m\n\u001b[0m\u001b[1;32m    812\u001b[0m \u001b[0;34m\u001b[0m\u001b[0m\n\u001b[1;32m    813\u001b[0m \u001b[0;34m\u001b[0m\u001b[0m\n",
      "\u001b[0;32m~/miniconda3/lib/python3.5/site-packages/numba/compiler.py\u001b[0m in \u001b[0;36m_compile_core\u001b[0;34m(self)\u001b[0m\n\u001b[1;32m    789\u001b[0m         \u001b[0mself\u001b[0m\u001b[0;34m.\u001b[0m\u001b[0mdefine_pipelines\u001b[0m\u001b[0;34m(\u001b[0m\u001b[0mpm\u001b[0m\u001b[0;34m)\u001b[0m\u001b[0;34m\u001b[0m\u001b[0m\n\u001b[1;32m    790\u001b[0m         \u001b[0mpm\u001b[0m\u001b[0;34m.\u001b[0m\u001b[0mfinalize\u001b[0m\u001b[0;34m(\u001b[0m\u001b[0;34m)\u001b[0m\u001b[0;34m\u001b[0m\u001b[0m\n\u001b[0;32m--> 791\u001b[0;31m         \u001b[0mres\u001b[0m \u001b[0;34m=\u001b[0m \u001b[0mpm\u001b[0m\u001b[0;34m.\u001b[0m\u001b[0mrun\u001b[0m\u001b[0;34m(\u001b[0m\u001b[0mself\u001b[0m\u001b[0;34m.\u001b[0m\u001b[0mstatus\u001b[0m\u001b[0;34m)\u001b[0m\u001b[0;34m\u001b[0m\u001b[0m\n\u001b[0m\u001b[1;32m    792\u001b[0m         \u001b[0;32mif\u001b[0m \u001b[0mres\u001b[0m \u001b[0;32mis\u001b[0m \u001b[0;32mnot\u001b[0m \u001b[0;32mNone\u001b[0m\u001b[0;34m:\u001b[0m\u001b[0;34m\u001b[0m\u001b[0m\n\u001b[1;32m    793\u001b[0m             \u001b[0;31m# Early pipeline completion\u001b[0m\u001b[0;34m\u001b[0m\u001b[0;34m\u001b[0m\u001b[0m\n",
      "\u001b[0;32m~/miniconda3/lib/python3.5/site-packages/numba/compiler.py\u001b[0m in \u001b[0;36mrun\u001b[0;34m(self, status)\u001b[0m\n\u001b[1;32m    251\u001b[0m                     \u001b[0;31m# No more fallback pipelines?\u001b[0m\u001b[0;34m\u001b[0m\u001b[0;34m\u001b[0m\u001b[0m\n\u001b[1;32m    252\u001b[0m                     \u001b[0;32mif\u001b[0m \u001b[0mis_final_pipeline\u001b[0m\u001b[0;34m:\u001b[0m\u001b[0;34m\u001b[0m\u001b[0m\n\u001b[0;32m--> 253\u001b[0;31m                         \u001b[0;32mraise\u001b[0m \u001b[0mpatched_exception\u001b[0m\u001b[0;34m\u001b[0m\u001b[0m\n\u001b[0m\u001b[1;32m    254\u001b[0m                     \u001b[0;31m# Go to next fallback pipeline\u001b[0m\u001b[0;34m\u001b[0m\u001b[0;34m\u001b[0m\u001b[0m\n\u001b[1;32m    255\u001b[0m                     \u001b[0;32melse\u001b[0m\u001b[0;34m:\u001b[0m\u001b[0;34m\u001b[0m\u001b[0m\n",
      "\u001b[0;32m~/miniconda3/lib/python3.5/site-packages/numba/compiler.py\u001b[0m in \u001b[0;36mrun\u001b[0;34m(self, status)\u001b[0m\n\u001b[1;32m    243\u001b[0m                 \u001b[0;32mtry\u001b[0m\u001b[0;34m:\u001b[0m\u001b[0;34m\u001b[0m\u001b[0m\n\u001b[1;32m    244\u001b[0m                     \u001b[0mevent\u001b[0m\u001b[0;34m(\u001b[0m\u001b[0mstage_name\u001b[0m\u001b[0;34m)\u001b[0m\u001b[0;34m\u001b[0m\u001b[0m\n\u001b[0;32m--> 245\u001b[0;31m                     \u001b[0mstage\u001b[0m\u001b[0;34m(\u001b[0m\u001b[0;34m)\u001b[0m\u001b[0;34m\u001b[0m\u001b[0m\n\u001b[0m\u001b[1;32m    246\u001b[0m                 \u001b[0;32mexcept\u001b[0m \u001b[0m_EarlyPipelineCompletion\u001b[0m \u001b[0;32mas\u001b[0m \u001b[0me\u001b[0m\u001b[0;34m:\u001b[0m\u001b[0;34m\u001b[0m\u001b[0m\n\u001b[1;32m    247\u001b[0m                     \u001b[0;32mreturn\u001b[0m \u001b[0me\u001b[0m\u001b[0;34m.\u001b[0m\u001b[0mresult\u001b[0m\u001b[0;34m\u001b[0m\u001b[0m\n",
      "\u001b[0;32m~/miniconda3/lib/python3.5/site-packages/numba/compiler.py\u001b[0m in \u001b[0;36mstage_objectmode_backend\u001b[0;34m(self)\u001b[0m\n\u001b[1;32m    650\u001b[0m         \"\"\"\n\u001b[1;32m    651\u001b[0m         \u001b[0mlowerfn\u001b[0m \u001b[0;34m=\u001b[0m \u001b[0mself\u001b[0m\u001b[0;34m.\u001b[0m\u001b[0mbackend_object_mode\u001b[0m\u001b[0;34m\u001b[0m\u001b[0m\n\u001b[0;32m--> 652\u001b[0;31m         \u001b[0mself\u001b[0m\u001b[0;34m.\u001b[0m\u001b[0m_backend\u001b[0m\u001b[0;34m(\u001b[0m\u001b[0mlowerfn\u001b[0m\u001b[0;34m,\u001b[0m \u001b[0mobjectmode\u001b[0m\u001b[0;34m=\u001b[0m\u001b[0;32mTrue\u001b[0m\u001b[0;34m)\u001b[0m\u001b[0;34m\u001b[0m\u001b[0m\n\u001b[0m\u001b[1;32m    653\u001b[0m \u001b[0;34m\u001b[0m\u001b[0m\n\u001b[1;32m    654\u001b[0m         \u001b[0;31m# Warn if compiled function in object mode and force_pyobject not set\u001b[0m\u001b[0;34m\u001b[0m\u001b[0;34m\u001b[0m\u001b[0m\n",
      "\u001b[0;32m~/miniconda3/lib/python3.5/site-packages/numba/compiler.py\u001b[0m in \u001b[0;36m_backend\u001b[0;34m(self, lowerfn, objectmode)\u001b[0m\n\u001b[1;32m    626\u001b[0m             \u001b[0mself\u001b[0m\u001b[0;34m.\u001b[0m\u001b[0mlibrary\u001b[0m\u001b[0;34m.\u001b[0m\u001b[0menable_object_caching\u001b[0m\u001b[0;34m(\u001b[0m\u001b[0;34m)\u001b[0m\u001b[0;34m\u001b[0m\u001b[0m\n\u001b[1;32m    627\u001b[0m \u001b[0;34m\u001b[0m\u001b[0m\n\u001b[0;32m--> 628\u001b[0;31m         \u001b[0mlowered\u001b[0m \u001b[0;34m=\u001b[0m \u001b[0mlowerfn\u001b[0m\u001b[0;34m(\u001b[0m\u001b[0;34m)\u001b[0m\u001b[0;34m\u001b[0m\u001b[0m\n\u001b[0m\u001b[1;32m    629\u001b[0m         \u001b[0msignature\u001b[0m \u001b[0;34m=\u001b[0m \u001b[0mtyping\u001b[0m\u001b[0;34m.\u001b[0m\u001b[0msignature\u001b[0m\u001b[0;34m(\u001b[0m\u001b[0mself\u001b[0m\u001b[0;34m.\u001b[0m\u001b[0mreturn_type\u001b[0m\u001b[0;34m,\u001b[0m \u001b[0;34m*\u001b[0m\u001b[0mself\u001b[0m\u001b[0;34m.\u001b[0m\u001b[0margs\u001b[0m\u001b[0;34m)\u001b[0m\u001b[0;34m\u001b[0m\u001b[0m\n\u001b[1;32m    630\u001b[0m         self.cr = compile_result(\n",
      "\u001b[0;32m~/miniconda3/lib/python3.5/site-packages/numba/compiler.py\u001b[0m in \u001b[0;36mbackend_object_mode\u001b[0;34m(self)\u001b[0m\n\u001b[1;32m    599\u001b[0m                                      \u001b[0mself\u001b[0m\u001b[0;34m.\u001b[0m\u001b[0mlibrary\u001b[0m\u001b[0;34m,\u001b[0m\u001b[0;34m\u001b[0m\u001b[0m\n\u001b[1;32m    600\u001b[0m                                      \u001b[0mself\u001b[0m\u001b[0;34m.\u001b[0m\u001b[0mfunc_ir\u001b[0m\u001b[0;34m,\u001b[0m\u001b[0;34m\u001b[0m\u001b[0m\n\u001b[0;32m--> 601\u001b[0;31m                                      self.flags)\n\u001b[0m\u001b[1;32m    602\u001b[0m \u001b[0;34m\u001b[0m\u001b[0m\n\u001b[1;32m    603\u001b[0m     \u001b[0;32mdef\u001b[0m \u001b[0mbackend_nopython_mode\u001b[0m\u001b[0;34m(\u001b[0m\u001b[0mself\u001b[0m\u001b[0;34m)\u001b[0m\u001b[0;34m:\u001b[0m\u001b[0;34m\u001b[0m\u001b[0m\n",
      "\u001b[0;32m~/miniconda3/lib/python3.5/site-packages/numba/compiler.py\u001b[0m in \u001b[0;36mpy_lowering_stage\u001b[0;34m(targetctx, library, interp, flags)\u001b[0m\n\u001b[1;32m   1016\u001b[0m         )\n\u001b[1;32m   1017\u001b[0m     \u001b[0mlower\u001b[0m \u001b[0;34m=\u001b[0m \u001b[0mobjmode\u001b[0m\u001b[0;34m.\u001b[0m\u001b[0mPyLower\u001b[0m\u001b[0;34m(\u001b[0m\u001b[0mtargetctx\u001b[0m\u001b[0;34m,\u001b[0m \u001b[0mlibrary\u001b[0m\u001b[0;34m,\u001b[0m \u001b[0mfndesc\u001b[0m\u001b[0;34m,\u001b[0m \u001b[0minterp\u001b[0m\u001b[0;34m)\u001b[0m\u001b[0;34m\u001b[0m\u001b[0m\n\u001b[0;32m-> 1018\u001b[0;31m     \u001b[0mlower\u001b[0m\u001b[0;34m.\u001b[0m\u001b[0mlower\u001b[0m\u001b[0;34m(\u001b[0m\u001b[0;34m)\u001b[0m\u001b[0;34m\u001b[0m\u001b[0m\n\u001b[0m\u001b[1;32m   1019\u001b[0m     \u001b[0;32mif\u001b[0m \u001b[0;32mnot\u001b[0m \u001b[0mflags\u001b[0m\u001b[0;34m.\u001b[0m\u001b[0mno_cpython_wrapper\u001b[0m\u001b[0;34m:\u001b[0m\u001b[0;34m\u001b[0m\u001b[0m\n\u001b[1;32m   1020\u001b[0m         \u001b[0mlower\u001b[0m\u001b[0;34m.\u001b[0m\u001b[0mcreate_cpython_wrapper\u001b[0m\u001b[0;34m(\u001b[0m\u001b[0;34m)\u001b[0m\u001b[0;34m\u001b[0m\u001b[0m\n",
      "\u001b[0;32m~/miniconda3/lib/python3.5/site-packages/numba/lowering.py\u001b[0m in \u001b[0;36mlower\u001b[0;34m(self)\u001b[0m\n\u001b[1;32m    171\u001b[0m         \u001b[0;32mif\u001b[0m \u001b[0mself\u001b[0m\u001b[0;34m.\u001b[0m\u001b[0mgenerator_info\u001b[0m \u001b[0;32mis\u001b[0m \u001b[0;32mNone\u001b[0m\u001b[0;34m:\u001b[0m\u001b[0;34m\u001b[0m\u001b[0m\n\u001b[1;32m    172\u001b[0m             \u001b[0mself\u001b[0m\u001b[0;34m.\u001b[0m\u001b[0mgenlower\u001b[0m \u001b[0;34m=\u001b[0m \u001b[0;32mNone\u001b[0m\u001b[0;34m\u001b[0m\u001b[0m\n\u001b[0;32m--> 173\u001b[0;31m             \u001b[0mself\u001b[0m\u001b[0;34m.\u001b[0m\u001b[0mlower_normal_function\u001b[0m\u001b[0;34m(\u001b[0m\u001b[0mself\u001b[0m\u001b[0;34m.\u001b[0m\u001b[0mfndesc\u001b[0m\u001b[0;34m)\u001b[0m\u001b[0;34m\u001b[0m\u001b[0m\n\u001b[0m\u001b[1;32m    174\u001b[0m         \u001b[0;32melse\u001b[0m\u001b[0;34m:\u001b[0m\u001b[0;34m\u001b[0m\u001b[0m\n\u001b[1;32m    175\u001b[0m             \u001b[0mself\u001b[0m\u001b[0;34m.\u001b[0m\u001b[0mgenlower\u001b[0m \u001b[0;34m=\u001b[0m \u001b[0mself\u001b[0m\u001b[0;34m.\u001b[0m\u001b[0mGeneratorLower\u001b[0m\u001b[0;34m(\u001b[0m\u001b[0mself\u001b[0m\u001b[0;34m)\u001b[0m\u001b[0;34m\u001b[0m\u001b[0m\n",
      "\u001b[0;32m~/miniconda3/lib/python3.5/site-packages/numba/lowering.py\u001b[0m in \u001b[0;36mlower_normal_function\u001b[0;34m(self, fndesc)\u001b[0m\n\u001b[1;32m    212\u001b[0m         \u001b[0;31m# Init argument values\u001b[0m\u001b[0;34m\u001b[0m\u001b[0;34m\u001b[0m\u001b[0m\n\u001b[1;32m    213\u001b[0m         \u001b[0mself\u001b[0m\u001b[0;34m.\u001b[0m\u001b[0mextract_function_arguments\u001b[0m\u001b[0;34m(\u001b[0m\u001b[0;34m)\u001b[0m\u001b[0;34m\u001b[0m\u001b[0m\n\u001b[0;32m--> 214\u001b[0;31m         \u001b[0mentry_block_tail\u001b[0m \u001b[0;34m=\u001b[0m \u001b[0mself\u001b[0m\u001b[0;34m.\u001b[0m\u001b[0mlower_function_body\u001b[0m\u001b[0;34m(\u001b[0m\u001b[0;34m)\u001b[0m\u001b[0;34m\u001b[0m\u001b[0m\n\u001b[0m\u001b[1;32m    215\u001b[0m \u001b[0;34m\u001b[0m\u001b[0m\n\u001b[1;32m    216\u001b[0m         \u001b[0;31m# Close tail of entry block\u001b[0m\u001b[0;34m\u001b[0m\u001b[0;34m\u001b[0m\u001b[0m\n",
      "\u001b[0;32m~/miniconda3/lib/python3.5/site-packages/numba/lowering.py\u001b[0m in \u001b[0;36mlower_function_body\u001b[0;34m(self)\u001b[0m\n\u001b[1;32m    237\u001b[0m             \u001b[0mbb\u001b[0m \u001b[0;34m=\u001b[0m \u001b[0mself\u001b[0m\u001b[0;34m.\u001b[0m\u001b[0mblkmap\u001b[0m\u001b[0;34m[\u001b[0m\u001b[0moffset\u001b[0m\u001b[0;34m]\u001b[0m\u001b[0;34m\u001b[0m\u001b[0m\n\u001b[1;32m    238\u001b[0m             \u001b[0mself\u001b[0m\u001b[0;34m.\u001b[0m\u001b[0mbuilder\u001b[0m\u001b[0;34m.\u001b[0m\u001b[0mposition_at_end\u001b[0m\u001b[0;34m(\u001b[0m\u001b[0mbb\u001b[0m\u001b[0;34m)\u001b[0m\u001b[0;34m\u001b[0m\u001b[0m\n\u001b[0;32m--> 239\u001b[0;31m             \u001b[0mself\u001b[0m\u001b[0;34m.\u001b[0m\u001b[0mlower_block\u001b[0m\u001b[0;34m(\u001b[0m\u001b[0mblock\u001b[0m\u001b[0;34m)\u001b[0m\u001b[0;34m\u001b[0m\u001b[0m\n\u001b[0m\u001b[1;32m    240\u001b[0m \u001b[0;34m\u001b[0m\u001b[0m\n\u001b[1;32m    241\u001b[0m         \u001b[0mself\u001b[0m\u001b[0;34m.\u001b[0m\u001b[0mpost_lower\u001b[0m\u001b[0;34m(\u001b[0m\u001b[0;34m)\u001b[0m\u001b[0;34m\u001b[0m\u001b[0m\n",
      "\u001b[0;32m~/miniconda3/lib/python3.5/site-packages/numba/lowering.py\u001b[0m in \u001b[0;36mlower_block\u001b[0;34m(self, block)\u001b[0m\n\u001b[1;32m    252\u001b[0m             with new_error_context('lowering \"{inst}\" at {loc}', inst=inst,\n\u001b[1;32m    253\u001b[0m                                    loc=self.loc, errcls_=defaulterrcls):\n\u001b[0;32m--> 254\u001b[0;31m                 \u001b[0mself\u001b[0m\u001b[0;34m.\u001b[0m\u001b[0mlower_inst\u001b[0m\u001b[0;34m(\u001b[0m\u001b[0minst\u001b[0m\u001b[0;34m)\u001b[0m\u001b[0;34m\u001b[0m\u001b[0m\n\u001b[0m\u001b[1;32m    255\u001b[0m \u001b[0;34m\u001b[0m\u001b[0m\n\u001b[1;32m    256\u001b[0m     \u001b[0;32mdef\u001b[0m \u001b[0mcreate_cpython_wrapper\u001b[0m\u001b[0;34m(\u001b[0m\u001b[0mself\u001b[0m\u001b[0;34m,\u001b[0m \u001b[0mrelease_gil\u001b[0m\u001b[0;34m=\u001b[0m\u001b[0;32mFalse\u001b[0m\u001b[0;34m)\u001b[0m\u001b[0;34m:\u001b[0m\u001b[0;34m\u001b[0m\u001b[0m\n",
      "\u001b[0;32m~/miniconda3/lib/python3.5/contextlib.py\u001b[0m in \u001b[0;36m__exit__\u001b[0;34m(self, type, value, traceback)\u001b[0m\n\u001b[1;32m     75\u001b[0m                 \u001b[0mvalue\u001b[0m \u001b[0;34m=\u001b[0m \u001b[0mtype\u001b[0m\u001b[0;34m(\u001b[0m\u001b[0;34m)\u001b[0m\u001b[0;34m\u001b[0m\u001b[0m\n\u001b[1;32m     76\u001b[0m             \u001b[0;32mtry\u001b[0m\u001b[0;34m:\u001b[0m\u001b[0;34m\u001b[0m\u001b[0m\n\u001b[0;32m---> 77\u001b[0;31m                 \u001b[0mself\u001b[0m\u001b[0;34m.\u001b[0m\u001b[0mgen\u001b[0m\u001b[0;34m.\u001b[0m\u001b[0mthrow\u001b[0m\u001b[0;34m(\u001b[0m\u001b[0mtype\u001b[0m\u001b[0;34m,\u001b[0m \u001b[0mvalue\u001b[0m\u001b[0;34m,\u001b[0m \u001b[0mtraceback\u001b[0m\u001b[0;34m)\u001b[0m\u001b[0;34m\u001b[0m\u001b[0m\n\u001b[0m\u001b[1;32m     78\u001b[0m             \u001b[0;32mexcept\u001b[0m \u001b[0mStopIteration\u001b[0m \u001b[0;32mas\u001b[0m \u001b[0mexc\u001b[0m\u001b[0;34m:\u001b[0m\u001b[0;34m\u001b[0m\u001b[0m\n\u001b[1;32m     79\u001b[0m                 \u001b[0;31m# Suppress StopIteration *unless* it's the same exception that\u001b[0m\u001b[0;34m\u001b[0m\u001b[0;34m\u001b[0m\u001b[0m\n",
      "\u001b[0;32m~/miniconda3/lib/python3.5/site-packages/numba/errors.py\u001b[0m in \u001b[0;36mnew_error_context\u001b[0;34m(fmt_, *args, **kwargs)\u001b[0m\n\u001b[1;32m    583\u001b[0m         \u001b[0;32mfrom\u001b[0m \u001b[0mnumba\u001b[0m \u001b[0;32mimport\u001b[0m \u001b[0mconfig\u001b[0m\u001b[0;34m\u001b[0m\u001b[0m\n\u001b[1;32m    584\u001b[0m         \u001b[0mtb\u001b[0m \u001b[0;34m=\u001b[0m \u001b[0msys\u001b[0m\u001b[0;34m.\u001b[0m\u001b[0mexc_info\u001b[0m\u001b[0;34m(\u001b[0m\u001b[0;34m)\u001b[0m\u001b[0;34m[\u001b[0m\u001b[0;36m2\u001b[0m\u001b[0;34m]\u001b[0m \u001b[0;32mif\u001b[0m \u001b[0mconfig\u001b[0m\u001b[0;34m.\u001b[0m\u001b[0mFULL_TRACEBACKS\u001b[0m \u001b[0;32melse\u001b[0m \u001b[0;32mNone\u001b[0m\u001b[0;34m\u001b[0m\u001b[0m\n\u001b[0;32m--> 585\u001b[0;31m         \u001b[0msix\u001b[0m\u001b[0;34m.\u001b[0m\u001b[0mreraise\u001b[0m\u001b[0;34m(\u001b[0m\u001b[0mtype\u001b[0m\u001b[0;34m(\u001b[0m\u001b[0mnewerr\u001b[0m\u001b[0;34m)\u001b[0m\u001b[0;34m,\u001b[0m \u001b[0mnewerr\u001b[0m\u001b[0;34m,\u001b[0m \u001b[0mtb\u001b[0m\u001b[0;34m)\u001b[0m\u001b[0;34m\u001b[0m\u001b[0m\n\u001b[0m\u001b[1;32m    586\u001b[0m \u001b[0;34m\u001b[0m\u001b[0m\n\u001b[1;32m    587\u001b[0m \u001b[0;34m\u001b[0m\u001b[0m\n",
      "\u001b[0;32m~/miniconda3/lib/python3.5/site-packages/numba/six.py\u001b[0m in \u001b[0;36mreraise\u001b[0;34m(tp, value, tb)\u001b[0m\n\u001b[1;32m    657\u001b[0m         \u001b[0;32mif\u001b[0m \u001b[0mvalue\u001b[0m\u001b[0;34m.\u001b[0m\u001b[0m__traceback__\u001b[0m \u001b[0;32mis\u001b[0m \u001b[0;32mnot\u001b[0m \u001b[0mtb\u001b[0m\u001b[0;34m:\u001b[0m\u001b[0;34m\u001b[0m\u001b[0m\n\u001b[1;32m    658\u001b[0m             \u001b[0;32mraise\u001b[0m \u001b[0mvalue\u001b[0m\u001b[0;34m.\u001b[0m\u001b[0mwith_traceback\u001b[0m\u001b[0;34m(\u001b[0m\u001b[0mtb\u001b[0m\u001b[0;34m)\u001b[0m\u001b[0;34m\u001b[0m\u001b[0m\n\u001b[0;32m--> 659\u001b[0;31m         \u001b[0;32mraise\u001b[0m \u001b[0mvalue\u001b[0m\u001b[0;34m\u001b[0m\u001b[0m\n\u001b[0m\u001b[1;32m    660\u001b[0m \u001b[0;34m\u001b[0m\u001b[0m\n\u001b[1;32m    661\u001b[0m \u001b[0;32melse\u001b[0m\u001b[0;34m:\u001b[0m\u001b[0;34m\u001b[0m\u001b[0m\n",
      "\u001b[0;31mLoweringError\u001b[0m: Failed at object (object mode backend)\nmake_function(name=$const67.38, defaults=None, code=<code object func at 0x1033bea150, file \"<ipython-input-150-5e83d8d035a8>\", line 20>, closure=None)\n\nFile \"<ipython-input-150-5e83d8d035a8>\", line 20:\ndef eventsProcess(mysignal, events, cols):\n    <source elided>\n\n        @jit(parallel = True)\n        ^\n[1] During: lowering \"$67.39 = make_function(name=$const67.38, defaults=None, code=<code object func at 0x1033bea150, file \"<ipython-input-150-5e83d8d035a8>\", line 20>, closure=None)\" at <ipython-input-150-5e83d8d035a8> (20)\n-------------------------------------------------------------------------------\nThis should not have happened, a problem has occurred in Numba's internals.\n\nPlease report the error message and traceback, along with a minimal reproducer\nat: https://github.com/numba/numba/issues/new\n\nIf more help is needed please feel free to speak to the Numba core developers\ndirectly at: https://gitter.im/numba/numba\n\nThanks in advance for your help in improving Numba!\n"
     ]
    }
   ],
   "source": [
    "events = 20000\n",
    "trap_out = eventsProcess(mysignal, events, cols)"
   ]
  },
  {
   "cell_type": "code",
   "execution_count": 129,
   "metadata": {},
   "outputs": [
    {
     "name": "stdout",
     "output_type": "stream",
     "text": [
      "4096\n",
      "1115\n"
     ]
    },
    {
     "data": {
      "image/png": "[encoded data removed]",
      "text/plain": [
       "<Figure size 432x288 with 1 Axes>"
      ]
     },
     "metadata": {
      "needs_background": "light"
     },
     "output_type": "display_data"
    }
   ],
   "source": [
    "plt.figure()\n",
    "plt.plot(trap_out[100][:])\n",
    "print(len(trap_out[0]))\n",
    "print(np.argmax(trap_out[100][:]))"
   ]
  },
  {
   "cell_type": "code",
   "execution_count": 148,
   "metadata": {},
   "outputs": [],
   "source": [
    "#from scipy.interpolate import UnivariateSpline\n",
    "#spline = UnivariateSpline(trap_out[100][:])"
   ]
  },
  {
   "cell_type": "code",
   "execution_count": 149,
   "metadata": {},
   "outputs": [],
   "source": [
    "#print(len(trap_out[100]))\n",
    "#print(FWHM(trap_out[100][:],range(len(trap_out[100]))))"
   ]
  },
  {
   "cell_type": "code",
   "execution_count": 130,
   "metadata": {},
   "outputs": [],
   "source": [
    "counts = []\n",
    "for j in range(0,len(trap_out)):\n",
    "    counts = np.append(counts,trap_out[j][1115]))"
   ]
  },
  {
   "cell_type": "code",
   "execution_count": 135,
   "metadata": {},
   "outputs": [
    {
     "name": "stdout",
     "output_type": "stream",
     "text": [
      "[6.88858020e+07 5.21815870e+07 4.28599880e+07 ... 1.58655135e+08\n",
      " 3.36233509e+08 5.77234170e+07]\n"
     ]
    },
    {
     "data": {
      "text/plain": [
       "(array([  4.,   0.,   0.,   0.,   3.,  21.,  28.,  63.,  95., 127., 135.,\n",
       "        171., 204., 207., 258., 290., 415., 391., 432., 408., 485., 439.,\n",
       "        453., 410., 445., 433., 411., 391., 378., 371., 345., 362., 328.,\n",
       "        333., 275., 282., 255., 255., 237., 232., 222., 231., 238., 197.,\n",
       "        194., 210., 196., 165., 184., 158., 156., 137., 162., 145., 140.,\n",
       "        123., 124., 134., 101.,  91., 102.,  98.,  88.,  89.,  82.,  86.,\n",
       "         76.,  74.,  68.,  80.,  66.,  69.,  53.,  55.,  66.,  56.,  73.,\n",
       "         68.,  76.,  76.,  48.,  41.,  50.,  47.,  48.,  49.,  52.,  45.,\n",
       "         56.,  38.,  44.,  48.,  35.,  37.,  43.,  47.,  36.,  43.,  25.,\n",
       "         48.,  33.,  35.,  45.,  36.,  43.,  30.,  41.,  40.,  38.,  24.,\n",
       "         34.,  27.,  28.,  19.,  33.,  51.,  20.,  22.,  19.,  32.,  24.,\n",
       "         22.,  21.,  20.,  22.,  16.,  20.,  28.,  20.,  25.,  18.,  40.,\n",
       "         23.,  20.,  18.,  30.,  14.,  35.,  28.,  19.,  17.,   9.,  20.,\n",
       "         21.,  20.,  22.,   9.,  21.,  23., 257., 101.,  17.,  11.,  14.,\n",
       "         16.,  14.,   9.,  11.,  10.,  11.,  13.,  17.,  17.,  17.,  19.,\n",
       "         11.,  13.,  19.,  23.,  12.,  16.,  12.,   7.,  23.,  14.,  11.,\n",
       "         17.,  16.,  21.,  18.,  16.,  17.,  11.,  15.,  13.,  11.,  17.,\n",
       "         19.,  13.,  12.,  13.,  18.,  11.,  12.,  11.,   7.,  13.,  20.,\n",
       "         20.,  13.,  12.,  12.,  11.,  16.,  14.,  17.,  13.,  14.,  13.,\n",
       "         16.,  18.,  14.,  23.,  15.,  16.,  22.,  16.,  12.,  11.,  20.,\n",
       "         15.,  19.,  12.,   6.,   8.,   8.,  18.,  21.,  13.,  16.,  16.,\n",
       "         10.,  14.,  11.,   6.,  12.,   7.,  11.,   8.,  12.,  11.,   7.,\n",
       "         10.,   6.,   7.,   9.,  11.,  17.,   7.,   5.,  10.,  12.,  11.,\n",
       "         13.,  14.,  11.,   8.,  13.,   7.,   9.,   4.,   4.,  10.,  13.,\n",
       "         11.,  94.,  66.,   8.,   9.,   5.,   5.,   5.,   6.,   8.,   6.,\n",
       "          2.,   8.,   6.,   5.,   4.,   4.,   2.,   2.,   5.,   3.,   3.,\n",
       "          4.,   1.,   5.,   4.,   6.,   1.,  11.,   2.,   2.,   3.,   2.,\n",
       "          2.,   2.,   6.,   3.,  71.,  71.,   2.,   0.,   4.,   1.,   2.,\n",
       "          1.,   2.,   2.,   1.,   4.,   2.,   2.,   1.,   0.,   1.,   2.,\n",
       "          3.,   0.,   2.,   3.,   1.,   1.,   0.,   1.,   1.,   2.,   3.,\n",
       "         29.,  43.,   3.,   1.,   4.,   0.,   1.,   0.,   0.,   2.,   1.,\n",
       "          2.,   2.,   0.,   2.,   1.,   2.,   0.,   1.,   1.,   0.,   1.,\n",
       "          2.,   0.,   0.,   1.,   2.,   0.,   2.,   4.,   0.,   1.,   2.,\n",
       "          1.,   0.,   2.,   1.,   1.,   2.,   1.,   2.,   3.,   0.,   1.,\n",
       "          1.,   0.,   0.,   3.,   2.,   0.,   1.,   1.,   2.,   0.,   0.,\n",
       "          0.,   0.,   0.,   1.,   0.,   0.,   3.,   1.,   1.,   1.,   1.,\n",
       "          1.,   0.,   1.,   0.,   5.,   1.,   1.,   1.,   1.,   0.,   0.,\n",
       "          2.,   0.,   3.,   1.,   1.,   1.,   0.,   0.,   1.,   0.,   1.,\n",
       "          1.,   0.,   2.,   1.,   0.,   0.,   0.,   0.,   1.,   0.,   0.,\n",
       "          2.,   0.,   0.,   0.,   1.,   2.,   1.,   0.,   2.,   0.,   1.,\n",
       "          0.,   0.,   1.,   0.,   0.,   1.,   0.,   0.,   0.,   1.,   0.,\n",
       "          0.,   0.,   1.,   1.,   0.,   1.,   1.,   1.,   0.,   2.,   0.,\n",
       "          1.,   1.,   2.,   0.,   1.,   1.,   0.,   0.,   0.,   0.,   1.,\n",
       "          1.,   1.,   0.,   1.,   2.,   0.,   0.,   1.,   1.,   2.,   0.,\n",
       "          0.,   1.,   1.,   0.,   0.,   0.,   0.,   0.,   0.,   0.,   1.,\n",
       "          0.,   1.,   0.,   0.,   3.]),\n",
       " array([7.06674000e+05, 2.20431773e+06, 3.70196145e+06, 5.19960518e+06,\n",
       "        6.69724890e+06, 8.19489263e+06, 9.69253636e+06, 1.11901801e+07,\n",
       "        1.26878238e+07, 1.41854675e+07, 1.56831113e+07, 1.71807550e+07,\n",
       "        1.86783987e+07, 2.01760424e+07, 2.16736862e+07, 2.31713299e+07,\n",
       "        2.46689736e+07, 2.61666173e+07, 2.76642611e+07, 2.91619048e+07,\n",
       "        3.06595485e+07, 3.21571922e+07, 3.36548360e+07, 3.51524797e+07,\n",
       "        3.66501234e+07, 3.81477671e+07, 3.96454109e+07, 4.11430546e+07,\n",
       "        4.26406983e+07, 4.41383421e+07, 4.56359858e+07, 4.71336295e+07,\n",
       "        4.86312732e+07, 5.01289170e+07, 5.16265607e+07, 5.31242044e+07,\n",
       "        5.46218481e+07, 5.61194919e+07, 5.76171356e+07, 5.91147793e+07,\n",
       "        6.06124230e+07, 6.21100668e+07, 6.36077105e+07, 6.51053542e+07,\n",
       "        6.66029979e+07, 6.81006417e+07, 6.95982854e+07, 7.10959291e+07,\n",
       "        7.25935728e+07, 7.40912166e+07, 7.55888603e+07, 7.70865040e+07,\n",
       "        7.85841478e+07, 8.00817915e+07, 8.15794352e+07, 8.30770789e+07,\n",
       "        8.45747227e+07, 8.60723664e+07, 8.75700101e+07, 8.90676538e+07,\n",
       "        9.05652976e+07, 9.20629413e+07, 9.35605850e+07, 9.50582287e+07,\n",
       "        9.65558725e+07, 9.80535162e+07, 9.95511599e+07, 1.01048804e+08,\n",
       "        1.02546447e+08, 1.04044091e+08, 1.05541735e+08, 1.07039379e+08,\n",
       "        1.08537022e+08, 1.10034666e+08, 1.11532310e+08, 1.13029953e+08,\n",
       "        1.14527597e+08, 1.16025241e+08, 1.17522885e+08, 1.19020528e+08,\n",
       "        1.20518172e+08, 1.22015816e+08, 1.23513460e+08, 1.25011103e+08,\n",
       "        1.26508747e+08, 1.28006391e+08, 1.29504034e+08, 1.31001678e+08,\n",
       "        1.32499322e+08, 1.33996966e+08, 1.35494609e+08, 1.36992253e+08,\n",
       "        1.38489897e+08, 1.39987541e+08, 1.41485184e+08, 1.42982828e+08,\n",
       "        1.44480472e+08, 1.45978115e+08, 1.47475759e+08, 1.48973403e+08,\n",
       "        1.50471047e+08, 1.51968690e+08, 1.53466334e+08, 1.54963978e+08,\n",
       "        1.56461622e+08, 1.57959265e+08, 1.59456909e+08, 1.60954553e+08,\n",
       "        1.62452196e+08, 1.63949840e+08, 1.65447484e+08, 1.66945128e+08,\n",
       "        1.68442771e+08, 1.69940415e+08, 1.71438059e+08, 1.72935702e+08,\n",
       "        1.74433346e+08, 1.75930990e+08, 1.77428634e+08, 1.78926277e+08,\n",
       "        1.80423921e+08, 1.81921565e+08, 1.83419209e+08, 1.84916852e+08,\n",
       "        1.86414496e+08, 1.87912140e+08, 1.89409783e+08, 1.90907427e+08,\n",
       "        1.92405071e+08, 1.93902715e+08, 1.95400358e+08, 1.96898002e+08,\n",
       "        1.98395646e+08, 1.99893290e+08, 2.01390933e+08, 2.02888577e+08,\n",
       "        2.04386221e+08, 2.05883864e+08, 2.07381508e+08, 2.08879152e+08,\n",
       "        2.10376796e+08, 2.11874439e+08, 2.13372083e+08, 2.14869727e+08,\n",
       "        2.16367371e+08, 2.17865014e+08, 2.19362658e+08, 2.20860302e+08,\n",
       "        2.22357945e+08, 2.23855589e+08, 2.25353233e+08, 2.26850877e+08,\n",
       "        2.28348520e+08, 2.29846164e+08, 2.31343808e+08, 2.32841452e+08,\n",
       "        2.34339095e+08, 2.35836739e+08, 2.37334383e+08, 2.38832026e+08,\n",
       "        2.40329670e+08, 2.41827314e+08, 2.43324958e+08, 2.44822601e+08,\n",
       "        2.46320245e+08, 2.47817889e+08, 2.49315533e+08, 2.50813176e+08,\n",
       "        2.52310820e+08, 2.53808464e+08, 2.55306107e+08, 2.56803751e+08,\n",
       "        2.58301395e+08, 2.59799039e+08, 2.61296682e+08, 2.62794326e+08,\n",
       "        2.64291970e+08, 2.65789614e+08, 2.67287257e+08, 2.68784901e+08,\n",
       "        2.70282545e+08, 2.71780188e+08, 2.73277832e+08, 2.74775476e+08,\n",
       "        2.76273120e+08, 2.77770763e+08, 2.79268407e+08, 2.80766051e+08,\n",
       "        2.82263694e+08, 2.83761338e+08, 2.85258982e+08, 2.86756626e+08,\n",
       "        2.88254269e+08, 2.89751913e+08, 2.91249557e+08, 2.92747201e+08,\n",
       "        2.94244844e+08, 2.95742488e+08, 2.97240132e+08, 2.98737775e+08,\n",
       "        3.00235419e+08, 3.01733063e+08, 3.03230707e+08, 3.04728350e+08,\n",
       "        3.06225994e+08, 3.07723638e+08, 3.09221282e+08, 3.10718925e+08,\n",
       "        3.12216569e+08, 3.13714213e+08, 3.15211856e+08, 3.16709500e+08,\n",
       "        3.18207144e+08, 3.19704788e+08, 3.21202431e+08, 3.22700075e+08,\n",
       "        3.24197719e+08, 3.25695363e+08, 3.27193006e+08, 3.28690650e+08,\n",
       "        3.30188294e+08, 3.31685937e+08, 3.33183581e+08, 3.34681225e+08,\n",
       "        3.36178869e+08, 3.37676512e+08, 3.39174156e+08, 3.40671800e+08,\n",
       "        3.42169444e+08, 3.43667087e+08, 3.45164731e+08, 3.46662375e+08,\n",
       "        3.48160018e+08, 3.49657662e+08, 3.51155306e+08, 3.52652950e+08,\n",
       "        3.54150593e+08, 3.55648237e+08, 3.57145881e+08, 3.58643525e+08,\n",
       "        3.60141168e+08, 3.61638812e+08, 3.63136456e+08, 3.64634099e+08,\n",
       "        3.66131743e+08, 3.67629387e+08, 3.69127031e+08, 3.70624674e+08,\n",
       "        3.72122318e+08, 3.73619962e+08, 3.75117606e+08, 3.76615249e+08,\n",
       "        3.78112893e+08, 3.79610537e+08, 3.81108180e+08, 3.82605824e+08,\n",
       "        3.84103468e+08, 3.85601112e+08, 3.87098755e+08, 3.88596399e+08,\n",
       "        3.90094043e+08, 3.91591686e+08, 3.93089330e+08, 3.94586974e+08,\n",
       "        3.96084618e+08, 3.97582261e+08, 3.99079905e+08, 4.00577549e+08,\n",
       "        4.02075193e+08, 4.03572836e+08, 4.05070480e+08, 4.06568124e+08,\n",
       "        4.08065767e+08, 4.09563411e+08, 4.11061055e+08, 4.12558699e+08,\n",
       "        4.14056342e+08, 4.15553986e+08, 4.17051630e+08, 4.18549274e+08,\n",
       "        4.20046917e+08, 4.21544561e+08, 4.23042205e+08, 4.24539848e+08,\n",
       "        4.26037492e+08, 4.27535136e+08, 4.29032780e+08, 4.30530423e+08,\n",
       "        4.32028067e+08, 4.33525711e+08, 4.35023355e+08, 4.36520998e+08,\n",
       "        4.38018642e+08, 4.39516286e+08, 4.41013929e+08, 4.42511573e+08,\n",
       "        4.44009217e+08, 4.45506861e+08, 4.47004504e+08, 4.48502148e+08,\n",
       "        4.49999792e+08, 4.51497436e+08, 4.52995079e+08, 4.54492723e+08,\n",
       "        4.55990367e+08, 4.57488010e+08, 4.58985654e+08, 4.60483298e+08,\n",
       "        4.61980942e+08, 4.63478585e+08, 4.64976229e+08, 4.66473873e+08,\n",
       "        4.67971517e+08, 4.69469160e+08, 4.70966804e+08, 4.72464448e+08,\n",
       "        4.73962091e+08, 4.75459735e+08, 4.76957379e+08, 4.78455023e+08,\n",
       "        4.79952666e+08, 4.81450310e+08, 4.82947954e+08, 4.84445597e+08,\n",
       "        4.85943241e+08, 4.87440885e+08, 4.88938529e+08, 4.90436172e+08,\n",
       "        4.91933816e+08, 4.93431460e+08, 4.94929104e+08, 4.96426747e+08,\n",
       "        4.97924391e+08, 4.99422035e+08, 5.00919678e+08, 5.02417322e+08,\n",
       "        5.03914966e+08, 5.05412610e+08, 5.06910253e+08, 5.08407897e+08,\n",
       "        5.09905541e+08, 5.11403185e+08, 5.12900828e+08, 5.14398472e+08,\n",
       "        5.15896116e+08, 5.17393759e+08, 5.18891403e+08, 5.20389047e+08,\n",
       "        5.21886691e+08, 5.23384334e+08, 5.24881978e+08, 5.26379622e+08,\n",
       "        5.27877266e+08, 5.29374909e+08, 5.30872553e+08, 5.32370197e+08,\n",
       "        5.33867840e+08, 5.35365484e+08, 5.36863128e+08, 5.38360772e+08,\n",
       "        5.39858415e+08, 5.41356059e+08, 5.42853703e+08, 5.44351347e+08,\n",
       "        5.45848990e+08, 5.47346634e+08, 5.48844278e+08, 5.50341921e+08,\n",
       "        5.51839565e+08, 5.53337209e+08, 5.54834853e+08, 5.56332496e+08,\n",
       "        5.57830140e+08, 5.59327784e+08, 5.60825428e+08, 5.62323071e+08,\n",
       "        5.63820715e+08, 5.65318359e+08, 5.66816002e+08, 5.68313646e+08,\n",
       "        5.69811290e+08, 5.71308934e+08, 5.72806577e+08, 5.74304221e+08,\n",
       "        5.75801865e+08, 5.77299509e+08, 5.78797152e+08, 5.80294796e+08,\n",
       "        5.81792440e+08, 5.83290083e+08, 5.84787727e+08, 5.86285371e+08,\n",
       "        5.87783015e+08, 5.89280658e+08, 5.90778302e+08, 5.92275946e+08,\n",
       "        5.93773589e+08, 5.95271233e+08, 5.96768877e+08, 5.98266521e+08,\n",
       "        5.99764164e+08, 6.01261808e+08, 6.02759452e+08, 6.04257096e+08,\n",
       "        6.05754739e+08, 6.07252383e+08, 6.08750027e+08, 6.10247670e+08,\n",
       "        6.11745314e+08, 6.13242958e+08, 6.14740602e+08, 6.16238245e+08,\n",
       "        6.17735889e+08, 6.19233533e+08, 6.20731177e+08, 6.22228820e+08,\n",
       "        6.23726464e+08, 6.25224108e+08, 6.26721751e+08, 6.28219395e+08,\n",
       "        6.29717039e+08, 6.31214683e+08, 6.32712326e+08, 6.34209970e+08,\n",
       "        6.35707614e+08, 6.37205258e+08, 6.38702901e+08, 6.40200545e+08,\n",
       "        6.41698189e+08, 6.43195832e+08, 6.44693476e+08, 6.46191120e+08,\n",
       "        6.47688764e+08, 6.49186407e+08, 6.50684051e+08, 6.52181695e+08,\n",
       "        6.53679339e+08, 6.55176982e+08, 6.56674626e+08, 6.58172270e+08,\n",
       "        6.59669913e+08, 6.61167557e+08, 6.62665201e+08, 6.64162845e+08,\n",
       "        6.65660488e+08, 6.67158132e+08, 6.68655776e+08, 6.70153420e+08,\n",
       "        6.71651063e+08, 6.73148707e+08, 6.74646351e+08, 6.76143994e+08,\n",
       "        6.77641638e+08, 6.79139282e+08, 6.80636926e+08, 6.82134569e+08,\n",
       "        6.83632213e+08, 6.85129857e+08, 6.86627501e+08, 6.88125144e+08,\n",
       "        6.89622788e+08, 6.91120432e+08, 6.92618075e+08, 6.94115719e+08,\n",
       "        6.95613363e+08, 6.97111007e+08, 6.98608650e+08, 7.00106294e+08,\n",
       "        7.01603938e+08, 7.03101581e+08, 7.04599225e+08, 7.06096869e+08,\n",
       "        7.07594513e+08, 7.09092156e+08, 7.10589800e+08, 7.12087444e+08,\n",
       "        7.13585088e+08, 7.15082731e+08, 7.16580375e+08, 7.18078019e+08,\n",
       "        7.19575662e+08, 7.21073306e+08, 7.22570950e+08, 7.24068594e+08,\n",
       "        7.25566237e+08, 7.27063881e+08, 7.28561525e+08, 7.30059169e+08,\n",
       "        7.31556812e+08, 7.33054456e+08, 7.34552100e+08, 7.36049743e+08,\n",
       "        7.37547387e+08, 7.39045031e+08, 7.40542675e+08, 7.42040318e+08,\n",
       "        7.43537962e+08, 7.45035606e+08, 7.46533250e+08, 7.48030893e+08,\n",
       "        7.49528537e+08]),\n",
       " <a list of 500 Patch objects>)"
      ]
     },
     "execution_count": 135,
     "metadata": {},
     "output_type": "execute_result"
    },
    {
     "data": {
      "image/png": "[encoded data removed]",
      "text/plain": [
       "<Figure size 432x288 with 1 Axes>"
      ]
     },
     "metadata": {
      "needs_background": "light"
     },
     "output_type": "display_data"
    }
   ],
   "source": [
    "print(np.trim_zeros(counts))\n",
    "counts2 = np.trim_zeros(counts)\n",
    "counts3 = counts2[(counts2>0) & (counts2<0.75e9)]\n",
    "plt.figure()\n",
    "plt.yscale('log')\n",
    "plt.hist(counts3,bins=500)"
   ]
  },
  {
   "cell_type": "code",
   "execution_count": null,
   "metadata": {},
   "outputs": [],
   "source": []
  }
 ],
 "metadata": {
  "kernelspec": {
   "display_name": "Python 3",
   "language": "python",
   "name": "python3"
  }
 },
 "nbformat": 4,
 "nbformat_minor": 2
}
