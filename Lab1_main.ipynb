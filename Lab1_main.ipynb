{
 "cells": [
  {
   "cell_type": "code",
   "execution_count": 157,
   "metadata": {},
   "outputs": [],
   "source": [
    "import numpy as np\n",
    "import matplotlib.pyplot as plt\n",
    "import pandas as pd\n",
    "from scipy.optimize import curve_fit\n",
    "from datetime import datetime\n",
    "from numba import jit, prange\n",
    "\n",
    "import tables\n",
    "import os"
   ]
  },
  {
   "cell_type": "code",
   "execution_count": 48,
   "metadata": {},
   "outputs": [
    {
     "name": "stdout",
     "output_type": "stream",
     "text": [
      "cs137_co60.h5 (File) ''\n",
      "Last modif.: 'Sun Sep 30 12:17:15 2018'\n",
      "Object Tree: \n",
      "/ (RootGroup) ''\n",
      "/EventData (Table(83439,), shuffle, zlib(1)) ''\n",
      "/RawData (EArray(83439, 4096), shuffle, zlib(1)) ''\n",
      "\n",
      "83439\n"
     ]
    },
    {
     "data": {
      "image/png": "[encoded data removed]",
      "text/plain": [
       "<Figure size 432x288 with 1 Axes>"
      ]
     },
     "metadata": {
      "needs_background": "light"
     },
     "output_type": "display_data"
    },
    {
     "data": {
      "image/png": "[encoded data removed]",
      "text/plain": [
       "<Figure size 432x288 with 1 Axes>"
      ]
     },
     "metadata": {
      "needs_background": "light"
     },
     "output_type": "display_data"
    }
   ],
   "source": [
    "h5file = tables.open_file(\"cs137_co60.h5\", driver=\"H5FD_CORE\")\n",
    "print(h5file)\n",
    "data = h5file.root.RawData\n",
    "EventData = h5file.root.EventData\n",
    "print(len(EventData))\n",
    "\n",
    "\n",
    "\n",
    "plt.figure()\n",
    "plt.plot(data[2422,:])\n",
    "plt.figure()\n",
    "plt.plot(np.gradient(data[2422,:]))\n",
    "plt.show()"
   ]
  },
  {
   "cell_type": "code",
   "execution_count": 53,
   "metadata": {},
   "outputs": [
    {
     "name": "stdout",
     "output_type": "stream",
     "text": [
      "/RawData (EArray(83439, 4096), shuffle, zlib(1)) ''\n",
      "999\n"
     ]
    },
    {
     "name": "stderr",
     "output_type": "stream",
     "text": [
      "/Users/DragonKnight/miniconda3/lib/python3.5/site-packages/ipykernel_launcher.py:16: DeprecationWarning: using a non-integer array as obj in delete will result in an error in the future\n",
      "  app.launch_new_instance()\n"
     ]
    },
    {
     "name": "stdout",
     "output_type": "stream",
     "text": [
      "deleted  999  signals due to pile up\n",
      "82440\n"
     ]
    }
   ],
   "source": [
    "# Find pulses that triggered multiple times and delete them\n",
    "i_pileup = 0\n",
    "j_pileup = 0\n",
    "pileup_args = np.array([])\n",
    "EventDataArray = np.array(EventData)\n",
    "\n",
    "for x in range(len(EventData)):\n",
    "    if int(EventData[x][3])>1:\n",
    "        pileup_args = np.append(pileup_args,i_pileup)\n",
    "        j_pileup = j_pileup+1  \n",
    "    i_pileup = i_pileup+1\n",
    "\n",
    "print(data)\n",
    "print(len(pileup_args))\n",
    "\n",
    "data = np.delete(data[:], pileup_args, 0)\n",
    "    \n",
    "print('deleted ', len(pileup_args),' signals due to pile up')\n",
    "print(len(data2))"
   ]
  },
  {
   "cell_type": "code",
   "execution_count": 277,
   "metadata": {},
   "outputs": [],
   "source": [
    "@jit(parallel = True)\n",
    "def baseLineReduction(mysignal):\n",
    "    avgNoise = np.mean(mysignal[0:1000])\n",
    "    return mysignal-avgNoise"
   ]
  },
  {
   "cell_type": "code",
   "execution_count": 280,
   "metadata": {},
   "outputs": [],
   "source": [
    "@jit(parallel = True)\n",
    "def TrapFilter(mysignal,tau):\n",
    "#    GradSignal = np.gradient(mysignal)\n",
    "#    argPeak = np.argmax(GradSignal)\n",
    "#    avgNoise = np.mean(mysignal[0:1000])\n",
    "    signalOnly = baseLineReduction(mysignal) \n",
    "#    \n",
    "#    @jit(parallel = True)\n",
    "#    def func(x, a, b):\n",
    "#        return a * np.exp(-b * x)\n",
    "#\n",
    "#    popt, pcov = curve_fit(func, range(0,len(newSignal)-argPeak), newSignal[argPeak:])\n",
    "#    tau = 1/popt[1]\n",
    "    \n",
    "    #signalOnly = newSignal[argPeak:]\n",
    "#    signalOnly = newSignal\n",
    "    m=40\n",
    "    #k=int((len(signalOnly)-m)/2)\n",
    "    #k = peaking time\n",
    "    #m= Gap time (in samples)\n",
    "    k=100\n",
    "    M = tau\n",
    "    Acc1=0.0\n",
    "    Acc2=0.0\n",
    "#    l =2*k+m\n",
    "#    final = list(range(len(signalOnly)))\n",
    "    i=0\n",
    "    zeros = np.zeros(2*k+m)\n",
    "    extSignalOnly=np.append(zeros,signalOnly)\n",
    "    final = np.zeros(len(signalOnly))\n",
    "    for i in range(len(signalOnly)):\n",
    "        parta = extSignalOnly[i+(2*k+m)] - extSignalOnly[i-k+(2*k+m)]\n",
    "        partb = extSignalOnly[i-2*k-m+(2*k+m)] - extSignalOnly[i-k-m+(2*k+m)]\n",
    "        partc = parta + partb\n",
    "        Acc1 = Acc1+partc\n",
    "        partd = partc*M+Acc1\n",
    "        Acc2 = Acc2 + partd\n",
    "        final[i] = Acc2\n",
    "        i=i+1\n",
    "    \n",
    "    normFinal = np.array(final)/(2.0*k+M)\n",
    "    #/max(final)\n",
    "    return normFinal"
   ]
  },
  {
   "cell_type": "code",
   "execution_count": 159,
   "metadata": {},
   "outputs": [
    {
     "name": "stdout",
     "output_type": "stream",
     "text": [
      "82440\n",
      "0:00:05.145184\n"
     ]
    }
   ],
   "source": [
    "rows = len(data[:,0])\n",
    "print(rows)\n",
    "cols = len(data[0,:])\n",
    "mysignals = np.zeros((rows,cols))\n",
    "\n",
    "@jit(parallel = True)\n",
    "def makesignals(raw_data):\n",
    "    for j in range(0,rows):\n",
    "        mysignals[j] = data[j,:]\n",
    "    return mysignals\n",
    "\n",
    "startTime = datetime.now()\n",
    "\n",
    "mysignals = makesignals(data)\n",
    "\n",
    "print(datetime.now() - startTime)"
   ]
  },
  {
   "cell_type": "code",
   "execution_count": 56,
   "metadata": {},
   "outputs": [],
   "source": []
  },
  {
   "cell_type": "code",
   "execution_count": 263,
   "metadata": {},
   "outputs": [],
   "source": [
    "@jit(parallel = True)\n",
    "def func(x, a, b):\n",
    "    return a * np.exp(-b * x)"
   ]
  },
  {
   "cell_type": "code",
   "execution_count": 287,
   "metadata": {},
   "outputs": [],
   "source": [
    "\n",
    "#tau = np.zeros(events)\n",
    "#trap_out = np.zeros((events,cols))\n",
    "\n",
    "@jit(parallel = True)\n",
    "def eventsProcess(mysignals, events, cols):\n",
    "    tau = np.zeros(events)\n",
    "    startTime = datetime.now()\n",
    "    trap_out = np.zeros((events,cols))\n",
    "    for j in range(0,events):\n",
    "#        print(j)\n",
    "#        mysignal = mysignals[j,:]\n",
    "#        GradSignal = np.gradient(mysignal)\n",
    "#        argPeak = np.argmax(GradSignal)\n",
    "#        avgNoise = np.mean(mysignal[0:900])\n",
    "#        newSignal = mysignal - avgNoise\n",
    "    #    plt.figure()\n",
    "    #    plt.plot(newSignal)\n",
    "\n",
    "#        @jit(parallel = True)\n",
    "#        def func(x, a, b):\n",
    "#            return a * np.exp(-b * x)\n",
    "\n",
    "        popt, pcov = curve_fit(func, range(0,len(newSignal)-1050), newSignal[1050:])\n",
    "    #    print(popt)\n",
    "        tau[j] = 1.0/popt[1]\n",
    "        trap_out[j] = TrapFilter(mysignals[j,:],5400.0)\n",
    "    print('Average Tau across all signals',np.mean(tau))\n",
    "    print(datetime.now() - startTime)\n",
    "    return trap_out"
   ]
  },
  {
   "cell_type": "code",
   "execution_count": null,
   "metadata": {},
   "outputs": [
    {
     "name": "stdout",
     "output_type": "stream",
     "text": [
      "82440\n"
     ]
    }
   ],
   "source": [
    "print(len(mysignals))\n",
    "events = len(mysignals)\n",
    "trap_out = eventsProcess(mysignals, events, cols)"
   ]
  },
  {
   "cell_type": "code",
   "execution_count": 284,
   "metadata": {},
   "outputs": [
    {
     "name": "stdout",
     "output_type": "stream",
     "text": [
      "4096\n",
      "1115\n"
     ]
    },
    {
     "data": {
      "image/png": "[encoded data removed]",
      "text/plain": [
       "<Figure size 432x288 with 1 Axes>"
      ]
     },
     "metadata": {
      "needs_background": "light"
     },
     "output_type": "display_data"
    }
   ],
   "source": [
    "plt.figure()\n",
    "a_signal = baseLineReduction(mysignals[100][:])\n",
    "plt.plot(a_signal[800:1500]/np.amax(a_signal))\n",
    "plt.plot(trap_out[100][800:1500]/np.amax(trap_out[100][:]))\n",
    "print(len(trap_out[0]))\n",
    "print(np.argmax(trap_out[100][:]))"
   ]
  },
  {
   "cell_type": "code",
   "execution_count": 148,
   "metadata": {},
   "outputs": [],
   "source": [
    "#from scipy.interpolate import UnivariateSpline\n",
    "#spline = UnivariateSpline(trap_out[100][:])"
   ]
  },
  {
   "cell_type": "code",
   "execution_count": 149,
   "metadata": {},
   "outputs": [],
   "source": [
    "#print(len(trap_out[100]))\n",
    "#print(FWHM(trap_out[100][:],range(len(trap_out[100]))))"
   ]
  },
  {
   "cell_type": "code",
   "execution_count": 270,
   "metadata": {},
   "outputs": [],
   "source": [
    "counts = []\n",
    "for j in range(0,len(trap_out)):\n",
    "    counts = np.append(counts,np.amax(trap_out[j]))"
   ]
  },
  {
   "cell_type": "code",
   "execution_count": 271,
   "metadata": {},
   "outputs": [
    {
     "data": {
      "text/plain": [
       "<BarContainer object of 8196 artists>"
      ]
     },
     "execution_count": 271,
     "metadata": {},
     "output_type": "execute_result"
    },
    {
     "data": {
      "image/png": "[encoded data removed]",
      "text/plain": [
       "<Figure size 432x288 with 1 Axes>"
      ]
     },
     "metadata": {
      "needs_background": "light"
     },
     "output_type": "display_data"
    }
   ],
   "source": [
    "#print(np.trim_zeros(counts))\n",
    "counts2 = np.trim_zeros(counts)\n",
    "counts3 = counts2[(counts2>0) & (counts2<0.6e9)]\n",
    "#plt.figure()\n",
    "#nhist, bins, ign = plt.hist(counts3,bins=8196)\n",
    "yhist, bins_hist = np.histogram(counts3,bins=8196)\n",
    "plt.figure()\n",
    "plt.bar(range(8196),yhist, width=1.0)\n",
    "#fig, ax = plt.subplots()\n",
    "#counts, bins, patches = ax.hist(counts3,bins=8196)\n",
    "#ax.set_xticklabels(range(8196))\n",
    "#plt.yscale('log')\n",
    "#xhist = np.linspace(0, 8196, 8196, False)\n",
    "#plt.show()\n",
    "\n"
   ]
  },
  {
   "cell_type": "code",
   "execution_count": null,
   "metadata": {},
   "outputs": [],
   "source": []
  }
 ],
 "metadata": {
  "kernelspec": {
   "display_name": "Python 3",
   "language": "python",
   "name": "python3"
  }
 },
 "nbformat": 4,
 "nbformat_minor": 2
}
