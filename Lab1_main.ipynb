{
 "cells": [
  {
   "cell_type": "code",
   "execution_count": 157,
   "metadata": {},
   "outputs": [],
   "source": [
    "import numpy as np\n",
    "import matplotlib.pyplot as plt\n",
    "import pandas as pd\n",
    "from scipy.optimize import curve_fit\n",
    "from datetime import datetime\n",
    "from numba import jit, prange\n",
    "\n",
    "import tables\n",
    "import os"
   ]
  },
  {
   "cell_type": "code",
   "execution_count": 48,
   "metadata": {},
   "outputs": [
    {
     "name": "stdout",
     "output_type": "stream",
     "text": [
      "cs137_co60.h5 (File) ''\n",
      "Last modif.: 'Sun Sep 30 12:17:15 2018'\n",
      "Object Tree: \n",
      "/ (RootGroup) ''\n",
      "/EventData (Table(83439,), shuffle, zlib(1)) ''\n",
      "/RawData (EArray(83439, 4096), shuffle, zlib(1)) ''\n",
      "\n",
      "83439\n"
     ]
    },
    {
     "data": {
      "image/png": "[encoded data removed]",
      "text/plain": [
       "<Figure size 432x288 with 1 Axes>"
      ]
     },
     "metadata": {
      "needs_background": "light"
     },
     "output_type": "display_data"
    },
    {
     "data": {
      "image/png": "[encoded data removed]",
      "text/plain": [
       "<Figure size 432x288 with 1 Axes>"
      ]
     },
     "metadata": {
      "needs_background": "light"
     },
     "output_type": "display_data"
    }
   ],
   "source": [
    "h5file = tables.open_file(\"cs137_co60.h5\", driver=\"H5FD_CORE\")\n",
    "print(h5file)\n",
    "data = h5file.root.RawData\n",
    "EventData = h5file.root.EventData\n",
    "print(len(EventData))\n",
    "\n",
    "\n",
    "\n",
    "plt.figure()\n",
    "plt.plot(data[2422,:])\n",
    "plt.figure()\n",
    "plt.plot(np.gradient(data[2422,:]))\n",
    "plt.show()"
   ]
  },
  {
   "cell_type": "code",
   "execution_count": 53,
   "metadata": {},
   "outputs": [
    {
     "name": "stdout",
     "output_type": "stream",
     "text": [
      "/RawData (EArray(83439, 4096), shuffle, zlib(1)) ''\n",
      "999\n"
     ]
    },
    {
     "name": "stderr",
     "output_type": "stream",
     "text": [
      "/Users/DragonKnight/miniconda3/lib/python3.5/site-packages/ipykernel_launcher.py:16: DeprecationWarning: using a non-integer array as obj in delete will result in an error in the future\n",
      "  app.launch_new_instance()\n"
     ]
    },
    {
     "name": "stdout",
     "output_type": "stream",
     "text": [
      "deleted  999  signals due to pile up\n",
      "82440\n"
     ]
    }
   ],
   "source": [
    "# Find pulses that triggered multiple times and delete them\n",
    "i_pileup = 0\n",
    "j_pileup = 0\n",
    "pileup_args = np.array([])\n",
    "EventDataArray = np.array(EventData)\n",
    "\n",
    "for x in range(len(EventData)):\n",
    "    if int(EventData[x][3])>1:\n",
    "        pileup_args = np.append(pileup_args,i_pileup)\n",
    "        j_pileup = j_pileup+1  \n",
    "    i_pileup = i_pileup+1\n",
    "\n",
    "print(data)\n",
    "print(len(pileup_args))\n",
    "\n",
    "data = np.delete(data[:], pileup_args, 0)\n",
    "    \n",
    "print('deleted ', len(pileup_args),' signals due to pile up')\n",
    "print(len(data2))"
   ]
  },
  {
   "cell_type": "code",
   "execution_count": null,
   "metadata": {},
   "outputs": [],
   "source": []
  },
  {
   "cell_type": "code",
   "execution_count": 54,
   "metadata": {},
   "outputs": [],
   "source": [
    "@jit(parallel = True)\n",
    "def TrapFilter(mysignal,tau):\n",
    "    GradSignal = np.gradient(mysignal)\n",
    "    argPeak = np.argmax(GradSignal)\n",
    "    avgNoise = np.mean(mysignal[0:argPeak-5])\n",
    "    newSignal = mysignal - avgNoise\n",
    "#    \n",
    "#    @jit(parallel = True)\n",
    "#    def func(x, a, b):\n",
    "#        return a * np.exp(-b * x)\n",
    "#\n",
    "#    popt, pcov = curve_fit(func, range(0,len(newSignal)-argPeak), newSignal[argPeak:])\n",
    "#    tau = 1/popt[1]\n",
    "    \n",
    "    #signalOnly = newSignal[argPeak:]\n",
    "    signalOnly = newSignal\n",
    "    m=40\n",
    "    #k=int((len(signalOnly)-m)/2)\n",
    "    #k = peaking time\n",
    "    #m= Gap time (in samples)\n",
    "    k=100\n",
    "    M = tau\n",
    "    Acc1=0.0\n",
    "    Acc2=0.0\n",
    "    l =2*k+m\n",
    "    final = list(range(len(signalOnly)))\n",
    "    i=0\n",
    "    zeros = np.zeros(2*k+m)\n",
    "    extSignalOnly=np.append(zeros,signalOnly)\n",
    "    while i < len(signalOnly):\n",
    "        parta = extSignalOnly[i+(2*k+m)] - extSignalOnly[i-k+(2*k+m)]\n",
    "        partb = extSignalOnly[i-2*k-m+(2*k+m)] - extSignalOnly[i-k-m+(2*k+m)]\n",
    "        partc = parta + partb\n",
    "        Acc1 = Acc1+partc\n",
    "        partd = partc*M+Acc1\n",
    "        Acc2 = Acc2 + partd\n",
    "        final[i] = Acc2\n",
    "        i=i+1\n",
    "    \n",
    "    normFinal = np.array(final)\n",
    "    #/max(final)\n",
    "    return normFinal"
   ]
  },
  {
   "cell_type": "code",
   "execution_count": 159,
   "metadata": {},
   "outputs": [
    {
     "name": "stdout",
     "output_type": "stream",
     "text": [
      "82440\n",
      "0:00:05.145184\n"
     ]
    }
   ],
   "source": [
    "rows = len(data[:,0])\n",
    "print(rows)\n",
    "cols = len(data[0,:])\n",
    "mysignals = np.zeros((rows,cols))\n",
    "\n",
    "@jit(parallel = True)\n",
    "def makesignals(raw_data):\n",
    "    for j in range(0,rows):\n",
    "        mysignals[j] = data[j,:]\n",
    "    return mysignals\n",
    "\n",
    "startTime = datetime.now()\n",
    "\n",
    "mysignals = makesignals(data)\n",
    "\n",
    "print(datetime.now() - startTime)"
   ]
  },
  {
   "cell_type": "code",
   "execution_count": 56,
   "metadata": {},
   "outputs": [],
   "source": []
  },
  {
   "cell_type": "code",
   "execution_count": 153,
   "metadata": {},
   "outputs": [],
   "source": [
    "@jit(parallel = True)\n",
    "def func(x, a, b):\n",
    "    return a * np.exp(-b * x)"
   ]
  },
  {
   "cell_type": "code",
   "execution_count": 168,
   "metadata": {},
   "outputs": [],
   "source": [
    "\n",
    "#tau = np.zeros(events)\n",
    "#trap_out = np.zeros((events,cols))\n",
    "\n",
    "@jit(parallel = True)\n",
    "def eventsProcess(mysignal, events, cols):\n",
    "#    tau = np.zeros(events)\n",
    "    startTime = datetime.now()\n",
    "    trap_out = np.zeros((events,cols))\n",
    "    for j in prange(0,events):\n",
    "#        print(j)\n",
    "        mysignal = mysignals[j,:]\n",
    "#        GradSignal = np.gradient(mysignal)\n",
    "#        argPeak = np.argmax(GradSignal)\n",
    "        avgNoise = np.mean(mysignal[0:900])\n",
    "        newSignal = mysignal - avgNoise\n",
    "    #    plt.figure()\n",
    "    #    plt.plot(newSignal)\n",
    "\n",
    "#        @jit(parallel = True)\n",
    "#        def func(x, a, b):\n",
    "#            return a * np.exp(-b * x)\n",
    "\n",
    "#        popt, pcov = curve_fit(func, range(0,len(newSignal)-1050), newSignal[1050:])\n",
    "    #    print(popt)\n",
    "#        tau[j] = 1.0/popt[1]\n",
    "        trap_out[j] = TrapFilter(mysignals[j,:],6179.29)\n",
    "#    print('Average Tau across all signals',np.mean(tau))\n",
    "    print(datetime.now() - startTime)\n",
    "    return trap_out"
   ]
  },
  {
   "cell_type": "code",
   "execution_count": 172,
   "metadata": {},
   "outputs": [
    {
     "name": "stdout",
     "output_type": "stream",
     "text": [
      "82440\n"
     ]
    },
    {
     "name": "stderr",
     "output_type": "stream",
     "text": [
      "/Users/DragonKnight/miniconda3/lib/python3.5/site-packages/numpy/core/fromnumeric.py:2920: RuntimeWarning: Mean of empty slice.\n",
      "  out=out, **kwargs)\n",
      "/Users/DragonKnight/miniconda3/lib/python3.5/site-packages/numpy/core/_methods.py:85: RuntimeWarning: invalid value encountered in double_scalars\n",
      "  ret = ret.dtype.type(ret / rcount)\n"
     ]
    },
    {
     "name": "stdout",
     "output_type": "stream",
     "text": [
      "0:50:33.466997\n"
     ]
    }
   ],
   "source": [
    "print(len(mysignals))\n",
    "events = len(mysignals)\n",
    "trap_out = eventsProcess(mysignal, events, cols)"
   ]
  },
  {
   "cell_type": "code",
   "execution_count": 173,
   "metadata": {},
   "outputs": [
    {
     "name": "stdout",
     "output_type": "stream",
     "text": [
      "4096\n",
      "1115\n"
     ]
    },
    {
     "data": {
      "image/png": "[encoded data removed]",
      "text/plain": [
       "<Figure size 432x288 with 1 Axes>"
      ]
     },
     "metadata": {
      "needs_background": "light"
     },
     "output_type": "display_data"
    }
   ],
   "source": [
    "plt.figure()\n",
    "plt.plot(trap_out[100][:])\n",
    "print(len(trap_out[0]))\n",
    "print(np.argmax(trap_out[100][:]))"
   ]
  },
  {
   "cell_type": "code",
   "execution_count": 148,
   "metadata": {},
   "outputs": [],
   "source": [
    "#from scipy.interpolate import UnivariateSpline\n",
    "#spline = UnivariateSpline(trap_out[100][:])"
   ]
  },
  {
   "cell_type": "code",
   "execution_count": 149,
   "metadata": {},
   "outputs": [],
   "source": [
    "#print(len(trap_out[100]))\n",
    "#print(FWHM(trap_out[100][:],range(len(trap_out[100]))))"
   ]
  },
  {
   "cell_type": "code",
   "execution_count": 174,
   "metadata": {},
   "outputs": [],
   "source": [
    "counts = []\n",
    "for j in range(0,len(trap_out)):\n",
    "    counts = np.append(counts,np.amax(trap_out[j]))"
   ]
  },
  {
   "cell_type": "code",
   "execution_count": 180,
   "metadata": {},
   "outputs": [
    {
     "name": "stdout",
     "output_type": "stream",
     "text": [
      "[7.09710160e+07 5.37839610e+07 4.41574010e+07 ... 1.60159432e+08\n",
      " 2.10631675e+08 7.48860670e+07]\n"
     ]
    },
    {
     "data": {
      "text/plain": [
       "(array([5.000e+00, 0.000e+00, 1.100e+01, 1.290e+02, 3.530e+02, 7.060e+02,\n",
       "        9.710e+02, 1.260e+03, 1.618e+03, 2.149e+03, 2.605e+03, 2.735e+03,\n",
       "        2.901e+03, 2.866e+03, 2.799e+03, 2.870e+03, 2.656e+03, 2.545e+03,\n",
       "        2.404e+03, 2.305e+03, 2.100e+03, 1.989e+03, 1.794e+03, 1.615e+03,\n",
       "        1.465e+03, 1.598e+03, 1.464e+03, 1.362e+03, 1.262e+03, 1.140e+03,\n",
       "        1.108e+03, 1.038e+03, 9.630e+02, 9.950e+02, 7.880e+02, 7.440e+02,\n",
       "        6.670e+02, 6.500e+02, 5.610e+02, 5.750e+02, 5.630e+02, 5.230e+02,\n",
       "        4.690e+02, 4.630e+02, 4.060e+02, 4.090e+02, 4.020e+02, 4.590e+02,\n",
       "        4.500e+02, 4.090e+02, 3.240e+02, 3.280e+02, 3.410e+02, 3.300e+02,\n",
       "        3.230e+02, 3.060e+02, 2.770e+02, 2.850e+02, 3.000e+02, 3.090e+02,\n",
       "        2.730e+02, 2.900e+02, 2.370e+02, 2.730e+02, 2.950e+02, 2.410e+02,\n",
       "        2.540e+02, 2.220e+02, 2.110e+02, 1.750e+02, 2.080e+02, 2.360e+02,\n",
       "        1.610e+02, 1.750e+02, 1.550e+02, 1.610e+02, 1.530e+02, 1.460e+02,\n",
       "        1.600e+02, 1.380e+02, 1.280e+02, 2.110e+02, 1.320e+02, 1.490e+02,\n",
       "        1.570e+02, 1.790e+02, 1.220e+02, 1.220e+02, 1.080e+02, 1.150e+02,\n",
       "        1.310e+02, 1.400e+02, 1.503e+03, 1.180e+02, 9.600e+01, 8.800e+01,\n",
       "        9.100e+01, 9.400e+01, 1.090e+02, 1.050e+02, 1.010e+02, 1.170e+02,\n",
       "        1.010e+02, 1.070e+02, 1.030e+02, 8.400e+01, 9.800e+01, 1.110e+02,\n",
       "        9.100e+01, 1.090e+02, 1.080e+02, 1.140e+02, 9.200e+01, 9.000e+01,\n",
       "        8.300e+01, 1.150e+02, 1.010e+02, 8.500e+01, 9.800e+01, 6.700e+01,\n",
       "        8.500e+01, 7.600e+01, 9.400e+01, 9.300e+01, 8.900e+01, 8.100e+01,\n",
       "        9.500e+01, 1.330e+02, 1.040e+02, 1.150e+02, 8.800e+01, 9.800e+01,\n",
       "        1.110e+02, 1.030e+02, 9.400e+01, 1.310e+02, 8.800e+01, 8.100e+01,\n",
       "        7.600e+01, 1.040e+02, 1.170e+02, 7.100e+01, 9.300e+01, 7.100e+01,\n",
       "        6.600e+01, 6.700e+01, 5.800e+01, 6.200e+01, 7.100e+01, 6.300e+01,\n",
       "        5.900e+01, 5.800e+01, 7.800e+01, 6.600e+01, 5.700e+01, 6.100e+01,\n",
       "        7.800e+01, 6.400e+01, 6.800e+01, 5.900e+01, 5.500e+01, 4.800e+01,\n",
       "        6.200e+01, 1.140e+02, 6.020e+02, 5.200e+01, 4.300e+01, 3.800e+01,\n",
       "        5.400e+01, 4.200e+01, 4.000e+01, 3.400e+01, 4.100e+01, 3.200e+01,\n",
       "        2.900e+01, 2.200e+01, 2.600e+01, 2.800e+01, 2.700e+01, 2.700e+01,\n",
       "        2.700e+01, 1.600e+01, 2.700e+01, 2.300e+01, 1.700e+01, 2.500e+01,\n",
       "        5.570e+02, 5.700e+01, 1.700e+01, 1.500e+01, 1.300e+01, 1.200e+01,\n",
       "        1.300e+01, 1.300e+01, 1.700e+01, 9.000e+00, 7.000e+00, 1.400e+01,\n",
       "        1.400e+01, 9.000e+00, 1.500e+01, 7.000e+00, 1.900e+01, 1.800e+01,\n",
       "        2.870e+02, 3.800e+01, 6.000e+00, 5.000e+00, 9.000e+00, 7.000e+00,\n",
       "        4.000e+00, 1.200e+01, 9.000e+00, 4.000e+00, 8.000e+00, 1.100e+01,\n",
       "        4.000e+00, 6.000e+00, 6.000e+00, 5.000e+00, 5.000e+00, 6.000e+00,\n",
       "        1.200e+01, 1.300e+01, 5.000e+00, 7.000e+00, 5.000e+00, 8.000e+00,\n",
       "        5.000e+00, 6.000e+00, 2.000e+00, 3.000e+00, 5.000e+00, 8.000e+00,\n",
       "        4.000e+00, 7.000e+00, 4.000e+00, 8.000e+00, 4.000e+00, 1.000e+00,\n",
       "        8.000e+00, 4.000e+00, 8.000e+00, 6.000e+00, 3.000e+00, 5.000e+00,\n",
       "        7.000e+00, 2.200e+01, 5.000e+00, 3.000e+00, 1.000e+00, 5.000e+00,\n",
       "        2.000e+00, 5.000e+00, 6.000e+00, 1.000e+00, 5.000e+00, 5.000e+00,\n",
       "        4.000e+00, 4.000e+00, 5.000e+00, 2.000e+00, 4.000e+00, 4.000e+00,\n",
       "        1.000e+00, 3.000e+00, 3.000e+00, 3.000e+00, 7.000e+00, 4.000e+00,\n",
       "        4.000e+00, 8.000e+00, 1.000e+00, 2.000e+00, 2.000e+00, 5.000e+00,\n",
       "        2.000e+00, 4.000e+00, 4.000e+00, 2.000e+00, 4.000e+00, 3.000e+00,\n",
       "        2.000e+00, 3.000e+00, 4.000e+00, 5.000e+00, 4.000e+00, 3.000e+00,\n",
       "        6.000e+00, 3.000e+00, 1.000e+00, 4.000e+00, 7.000e+00, 5.000e+00,\n",
       "        8.000e+00, 8.000e+00, 1.000e+00, 8.000e+00, 2.000e+00, 6.000e+00]),\n",
       " array([8.71322000e+05, 3.36765595e+06, 5.86398991e+06, 8.36032386e+06,\n",
       "        1.08566578e+07, 1.33529918e+07, 1.58493257e+07, 1.83456597e+07,\n",
       "        2.08419936e+07, 2.33383276e+07, 2.58346615e+07, 2.83309955e+07,\n",
       "        3.08273294e+07, 3.33236634e+07, 3.58199973e+07, 3.83163313e+07,\n",
       "        4.08126653e+07, 4.33089992e+07, 4.58053332e+07, 4.83016671e+07,\n",
       "        5.07980011e+07, 5.32943350e+07, 5.57906690e+07, 5.82870029e+07,\n",
       "        6.07833369e+07, 6.32796708e+07, 6.57760048e+07, 6.82723387e+07,\n",
       "        7.07686727e+07, 7.32650066e+07, 7.57613406e+07, 7.82576746e+07,\n",
       "        8.07540085e+07, 8.32503425e+07, 8.57466764e+07, 8.82430104e+07,\n",
       "        9.07393443e+07, 9.32356783e+07, 9.57320122e+07, 9.82283462e+07,\n",
       "        1.00724680e+08, 1.03221014e+08, 1.05717348e+08, 1.08213682e+08,\n",
       "        1.10710016e+08, 1.13206350e+08, 1.15702684e+08, 1.18199018e+08,\n",
       "        1.20695352e+08, 1.23191686e+08, 1.25688020e+08, 1.28184354e+08,\n",
       "        1.30680688e+08, 1.33177022e+08, 1.35673355e+08, 1.38169689e+08,\n",
       "        1.40666023e+08, 1.43162357e+08, 1.45658691e+08, 1.48155025e+08,\n",
       "        1.50651359e+08, 1.53147693e+08, 1.55644027e+08, 1.58140361e+08,\n",
       "        1.60636695e+08, 1.63133029e+08, 1.65629363e+08, 1.68125697e+08,\n",
       "        1.70622031e+08, 1.73118365e+08, 1.75614699e+08, 1.78111033e+08,\n",
       "        1.80607367e+08, 1.83103701e+08, 1.85600035e+08, 1.88096368e+08,\n",
       "        1.90592702e+08, 1.93089036e+08, 1.95585370e+08, 1.98081704e+08,\n",
       "        2.00578038e+08, 2.03074372e+08, 2.05570706e+08, 2.08067040e+08,\n",
       "        2.10563374e+08, 2.13059708e+08, 2.15556042e+08, 2.18052376e+08,\n",
       "        2.20548710e+08, 2.23045044e+08, 2.25541378e+08, 2.28037712e+08,\n",
       "        2.30534046e+08, 2.33030380e+08, 2.35526714e+08, 2.38023048e+08,\n",
       "        2.40519382e+08, 2.43015715e+08, 2.45512049e+08, 2.48008383e+08,\n",
       "        2.50504717e+08, 2.53001051e+08, 2.55497385e+08, 2.57993719e+08,\n",
       "        2.60490053e+08, 2.62986387e+08, 2.65482721e+08, 2.67979055e+08,\n",
       "        2.70475389e+08, 2.72971723e+08, 2.75468057e+08, 2.77964391e+08,\n",
       "        2.80460725e+08, 2.82957059e+08, 2.85453393e+08, 2.87949727e+08,\n",
       "        2.90446061e+08, 2.92942395e+08, 2.95438728e+08, 2.97935062e+08,\n",
       "        3.00431396e+08, 3.02927730e+08, 3.05424064e+08, 3.07920398e+08,\n",
       "        3.10416732e+08, 3.12913066e+08, 3.15409400e+08, 3.17905734e+08,\n",
       "        3.20402068e+08, 3.22898402e+08, 3.25394736e+08, 3.27891070e+08,\n",
       "        3.30387404e+08, 3.32883738e+08, 3.35380072e+08, 3.37876406e+08,\n",
       "        3.40372740e+08, 3.42869074e+08, 3.45365408e+08, 3.47861742e+08,\n",
       "        3.50358075e+08, 3.52854409e+08, 3.55350743e+08, 3.57847077e+08,\n",
       "        3.60343411e+08, 3.62839745e+08, 3.65336079e+08, 3.67832413e+08,\n",
       "        3.70328747e+08, 3.72825081e+08, 3.75321415e+08, 3.77817749e+08,\n",
       "        3.80314083e+08, 3.82810417e+08, 3.85306751e+08, 3.87803085e+08,\n",
       "        3.90299419e+08, 3.92795753e+08, 3.95292087e+08, 3.97788421e+08,\n",
       "        4.00284755e+08, 4.02781088e+08, 4.05277422e+08, 4.07773756e+08,\n",
       "        4.10270090e+08, 4.12766424e+08, 4.15262758e+08, 4.17759092e+08,\n",
       "        4.20255426e+08, 4.22751760e+08, 4.25248094e+08, 4.27744428e+08,\n",
       "        4.30240762e+08, 4.32737096e+08, 4.35233430e+08, 4.37729764e+08,\n",
       "        4.40226098e+08, 4.42722432e+08, 4.45218766e+08, 4.47715100e+08,\n",
       "        4.50211434e+08, 4.52707768e+08, 4.55204102e+08, 4.57700435e+08,\n",
       "        4.60196769e+08, 4.62693103e+08, 4.65189437e+08, 4.67685771e+08,\n",
       "        4.70182105e+08, 4.72678439e+08, 4.75174773e+08, 4.77671107e+08,\n",
       "        4.80167441e+08, 4.82663775e+08, 4.85160109e+08, 4.87656443e+08,\n",
       "        4.90152777e+08, 4.92649111e+08, 4.95145445e+08, 4.97641779e+08,\n",
       "        5.00138113e+08, 5.02634447e+08, 5.05130781e+08, 5.07627115e+08,\n",
       "        5.10123448e+08, 5.12619782e+08, 5.15116116e+08, 5.17612450e+08,\n",
       "        5.20108784e+08, 5.22605118e+08, 5.25101452e+08, 5.27597786e+08,\n",
       "        5.30094120e+08, 5.32590454e+08, 5.35086788e+08, 5.37583122e+08,\n",
       "        5.40079456e+08, 5.42575790e+08, 5.45072124e+08, 5.47568458e+08,\n",
       "        5.50064792e+08, 5.52561126e+08, 5.55057460e+08, 5.57553794e+08,\n",
       "        5.60050128e+08, 5.62546462e+08, 5.65042795e+08, 5.67539129e+08,\n",
       "        5.70035463e+08, 5.72531797e+08, 5.75028131e+08, 5.77524465e+08,\n",
       "        5.80020799e+08, 5.82517133e+08, 5.85013467e+08, 5.87509801e+08,\n",
       "        5.90006135e+08, 5.92502469e+08, 5.94998803e+08, 5.97495137e+08,\n",
       "        5.99991471e+08, 6.02487805e+08, 6.04984139e+08, 6.07480473e+08,\n",
       "        6.09976807e+08, 6.12473141e+08, 6.14969475e+08, 6.17465808e+08,\n",
       "        6.19962142e+08, 6.22458476e+08, 6.24954810e+08, 6.27451144e+08,\n",
       "        6.29947478e+08, 6.32443812e+08, 6.34940146e+08, 6.37436480e+08,\n",
       "        6.39932814e+08, 6.42429148e+08, 6.44925482e+08, 6.47421816e+08,\n",
       "        6.49918150e+08, 6.52414484e+08, 6.54910818e+08, 6.57407152e+08,\n",
       "        6.59903486e+08, 6.62399820e+08, 6.64896154e+08, 6.67392488e+08,\n",
       "        6.69888821e+08, 6.72385155e+08, 6.74881489e+08, 6.77377823e+08,\n",
       "        6.79874157e+08, 6.82370491e+08, 6.84866825e+08, 6.87363159e+08,\n",
       "        6.89859493e+08, 6.92355827e+08, 6.94852161e+08, 6.97348495e+08,\n",
       "        6.99844829e+08, 7.02341163e+08, 7.04837497e+08, 7.07333831e+08,\n",
       "        7.09830165e+08, 7.12326499e+08, 7.14822833e+08, 7.17319167e+08,\n",
       "        7.19815501e+08, 7.22311835e+08, 7.24808168e+08, 7.27304502e+08,\n",
       "        7.29800836e+08, 7.32297170e+08, 7.34793504e+08, 7.37289838e+08,\n",
       "        7.39786172e+08, 7.42282506e+08, 7.44778840e+08, 7.47275174e+08,\n",
       "        7.49771508e+08]),\n",
       " <a list of 300 Patch objects>)"
      ]
     },
     "execution_count": 180,
     "metadata": {},
     "output_type": "execute_result"
    },
    {
     "data": {
      "image/png": "[encoded data removed]",
      "text/plain": [
       "<Figure size 432x288 with 1 Axes>"
      ]
     },
     "metadata": {
      "needs_background": "light"
     },
     "output_type": "display_data"
    }
   ],
   "source": [
    "print(np.trim_zeros(counts))\n",
    "counts2 = np.trim_zeros(counts)\n",
    "counts3 = counts2[(counts2>0) & (counts2<0.75e9)]\n",
    "plt.figure()\n",
    "plt.yscale('log')\n",
    "plt.hist(counts3,bins=300)"
   ]
  },
  {
   "cell_type": "code",
   "execution_count": null,
   "metadata": {},
   "outputs": [],
   "source": []
  }
 ],
 "metadata": {
  "kernelspec": {
   "display_name": "Python 3",
   "language": "python",
   "name": "python3"
  }
 },
 "nbformat": 4,
 "nbformat_minor": 2
}
