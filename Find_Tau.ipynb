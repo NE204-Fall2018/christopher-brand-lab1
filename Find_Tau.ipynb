{
 "cells": [
  {
   "cell_type": "code",
   "execution_count": 1,
   "metadata": {},
   "outputs": [],
   "source": [
    "import numpy as np\n",
    "import matplotlib.pyplot as plt\n",
    "import pandas as pd\n",
    "from scipy.optimize import curve_fit\n",
    "from datetime import datetime\n",
    "from numba import jit\n",
    "import scipy.optimize as opt\n",
    "from lmfit.models import GaussianModel, ConstantModel\n",
    "\n",
    "import tables\n",
    "import os"
   ]
  },
  {
   "cell_type": "code",
   "execution_count": null,
   "metadata": {},
   "outputs": [],
   "source": [
    "h5file = tables.open_file(\"data/test_input.h5\", driver=\"H5FD_CORE\")\n",
    "print(h5file)\n",
    "data = h5file.root.RawData\n",
    "EventData = h5file.root.EventData\n",
    "print(len(EventData))"
   ]
  },
  {
   "cell_type": "code",
   "execution_count": null,
   "metadata": {},
   "outputs": [],
   "source": []
  },
  {
   "cell_type": "code",
   "execution_count": null,
   "metadata": {},
   "outputs": [],
   "source": []
  },
  {
   "cell_type": "code",
   "execution_count": null,
   "metadata": {},
   "outputs": [],
   "source": [
    "startTime = datetime.now()\n",
    "events = len(mysignals)\n",
    "cols = len(data[0,:])\n",
    "trap_out = np.zeros((events,cols))\n",
    "tau = np.zeros(events)\n",
    "for j in range(0,events):\n",
    "    signalOnly = baseLineReduction(mysignals[j])\n",
    "    popt, pcov = curve_fit(func, range(0,len(signalOnly)-1115), signalOnly[1115:])\n",
    "    tau[j] = 1.0/popt[1]\n",
    "    print(j)\n",
    "print('Average Tau across all signals',np.mean(tau))\n",
    "print(datetime.now() - startTime)"
   ]
  }
 ],
 "metadata": {
  "kernelspec": {
   "display_name": "Python 3",
   "language": "python",
   "name": "python3"
  },
  "language_info": {
   "codemirror_mode": {
    "name": "ipython",
    "version": 3
   },
   "file_extension": ".py",
   "mimetype": "text/x-python",
   "name": "python",
   "nbconvert_exporter": "python",
   "pygments_lexer": "ipython3",
   "version": "3.5.6"
  }
 },
 "nbformat": 4,
 "nbformat_minor": 2
}
