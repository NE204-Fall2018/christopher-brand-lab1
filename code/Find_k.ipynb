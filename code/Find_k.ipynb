{
 "cells": [
  {
   "cell_type": "code",
   "execution_count": 57,
   "metadata": {},
   "outputs": [],
   "source": [
    "# This code finds the optimized rise time (k) for the trapizoidal filter. ~20 mins.\n",
    "# WARNING: produces in inversed graph for some reason. Error not found. \n",
    "\n",
    "import numpy as np\n",
    "import matplotlib.pyplot as plt\n",
    "import pandas as pd\n",
    "from scipy.optimize import curve_fit\n",
    "from datetime import datetime\n",
    "from numba import jit\n",
    "import scipy.optimize as opt\n",
    "from lmfit.models import GaussianModel, ConstantModel\n",
    "\n",
    "import tables\n",
    "import os"
   ]
  },
  {
   "cell_type": "code",
   "execution_count": 58,
   "metadata": {},
   "outputs": [
    {
     "name": "stdout",
     "output_type": "stream",
     "text": [
      "data/test_input.h5 (File) ''\n",
      "Last modif.: 'Sun Sep 30 15:01:08 2018'\n",
      "Object Tree: \n",
      "/ (RootGroup) ''\n",
      "/EventData (Table(63734,), shuffle, zlib(1)) ''\n",
      "/RawData (EArray(63734, 4096), shuffle, zlib(1)) ''\n",
      "\n",
      "63734\n"
     ]
    }
   ],
   "source": [
    "m = 24\n",
    "\n",
    "h5file = tables.open_file(\"../data/test_input.h5\", driver=\"H5FD_CORE\")\n",
    "print(h5file)\n",
    "data = h5file.root.RawData\n",
    "EventData = h5file.root.EventData\n",
    "print(len(EventData))"
   ]
  },
  {
   "cell_type": "code",
   "execution_count": null,
   "metadata": {},
   "outputs": [],
   "source": []
  },
  {
   "cell_type": "code",
   "execution_count": 59,
   "metadata": {},
   "outputs": [
    {
     "name": "stdout",
     "output_type": "stream",
     "text": [
      "/RawData (EArray(63734, 4096), shuffle, zlib(1)) ''\n",
      "1248\n"
     ]
    },
    {
     "name": "stderr",
     "output_type": "stream",
     "text": [
      "/Users/DragonKnight/miniconda3/lib/python3.5/site-packages/ipykernel_launcher.py:16: DeprecationWarning: using a non-integer array as obj in delete will result in an error in the future\n",
      "  app.launch_new_instance()\n"
     ]
    },
    {
     "name": "stdout",
     "output_type": "stream",
     "text": [
      "deleted  1248  signals due to pile up\n"
     ]
    }
   ],
   "source": [
    "# Find pulses that triggered multiple times and delete them\n",
    "i_pileup = 0\n",
    "j_pileup = 0\n",
    "pileup_args = np.array([])\n",
    "EventDataArray = np.array(EventData)\n",
    "\n",
    "for x in range(len(EventData)):\n",
    "    if int(EventData[x][3])>1:\n",
    "        pileup_args = np.append(pileup_args,i_pileup)\n",
    "        j_pileup = j_pileup+1  \n",
    "    i_pileup = i_pileup+1\n",
    "\n",
    "print(data)\n",
    "print(len(pileup_args))\n",
    "\n",
    "data = np.delete(data[:], pileup_args, 0)\n",
    "    \n",
    "print('deleted ', len(pileup_args),' signals due to pile up')\n",
    "#print(len(data2))"
   ]
  },
  {
   "cell_type": "code",
   "execution_count": 60,
   "metadata": {},
   "outputs": [],
   "source": [
    "@jit(parallel = True)\n",
    "def baseLineReduction(mysignal):\n",
    "    avgNoise = np.mean(mysignal[0:1000])\n",
    "    return mysignal-avgNoise"
   ]
  },
  {
   "cell_type": "code",
   "execution_count": 61,
   "metadata": {},
   "outputs": [],
   "source": [
    "@jit(parallel = True)\n",
    "def TrapFilter(mysignal,tau,k,m):\n",
    "    signalOnly = baseLineReduction(mysignal) \n",
    "    M = tau\n",
    "    Acc1=0.0\n",
    "    Acc2=0.0\n",
    "    i=0\n",
    "    zeros = np.zeros(2*k+m)\n",
    "    extSignalOnly=np.append(zeros,signalOnly)\n",
    "    final = np.zeros(len(signalOnly))\n",
    "    for i in range(len(signalOnly)):\n",
    "        parta = extSignalOnly[i+(2*k+m)] - extSignalOnly[i-k+(2*k+m)]\n",
    "        partb = extSignalOnly[i-2*k-m+(2*k+m)] - extSignalOnly[i-k-m+(2*k+m)]\n",
    "        partc = parta + partb\n",
    "        Acc1 = Acc1+partc\n",
    "        partd = partc*M+Acc1\n",
    "        Acc2 = Acc2 + partd\n",
    "        final[i] = Acc2\n",
    "        i=i+1\n",
    "    \n",
    "    normFinal = np.array(final)\n",
    "    return normFinal"
   ]
  },
  {
   "cell_type": "code",
   "execution_count": 62,
   "metadata": {},
   "outputs": [
    {
     "name": "stdout",
     "output_type": "stream",
     "text": [
      "62486\n",
      "0:00:05.312825\n"
     ]
    }
   ],
   "source": [
    "rows = len(data[:,0])\n",
    "print(rows)\n",
    "cols = len(data[0,:])\n",
    "mysignals = np.zeros((rows,cols))\n",
    "\n",
    "@jit(parallel = True)\n",
    "def makesignals(raw_data):\n",
    "    for j in range(0,rows):\n",
    "        mysignals[j] = data[j,:]\n",
    "    return mysignals\n",
    "\n",
    "startTime = datetime.now()\n",
    "\n",
    "mysignals = makesignals(data)\n",
    "\n",
    "print(datetime.now() - startTime)"
   ]
  },
  {
   "cell_type": "code",
   "execution_count": 63,
   "metadata": {},
   "outputs": [],
   "source": [
    "@jit(parallel = True)\n",
    "def func(x, a, b):\n",
    "    return a * np.exp(-b * x)"
   ]
  },
  {
   "cell_type": "code",
   "execution_count": 64,
   "metadata": {},
   "outputs": [],
   "source": [
    "@jit(parallel = True)\n",
    "def eventsProcess(mysignals, events, cols,tau,k,m):\n",
    "#    tau = np.zeros(events)\n",
    "    startTime = datetime.now()\n",
    "    trap_out = np.zeros((events,cols))\n",
    "    for j in range(0,events):\n",
    "        trap_out[j] = TrapFilter(mysignals[j,:],tau,k,m)\n",
    "    print(datetime.now() - startTime)\n",
    "    return trap_out"
   ]
  },
  {
   "cell_type": "code",
   "execution_count": 66,
   "metadata": {},
   "outputs": [],
   "source": [
    "@jit(parallel = True)\n",
    "def gauss(x, a, u, sig):\n",
    "    return a*np.exp(-(x-u)**2.0/(2.0*sig**2.0))\n",
    "\n",
    "@jit(parallel = True)\n",
    "def FWHM(counts,lower_bound,upper_bound):\n",
    "    X = range(lower_bound, upper_bound)\n",
    "    Y = counts[lower_bound:upper_bound]\n",
    "    # Fit a guassian\n",
    "    mean = sum(X * Y) / sum(Y)\n",
    "    sigma = np.sqrt(sum(Y * (X - mean)**2) / sum(Y))\n",
    "#    pi = [max(Y),mean,sigma]\n",
    "#    popt, pcov = curve_fit(gauss, X, Y, p0=pi)\n",
    "#    print(popt)\n",
    "#    fit_a, fit_mu, fit_stdev = popt\n",
    "    # fit guassian using other method\n",
    "    model = GaussianModel(prefix='peak_') + ConstantModel()\n",
    "    # make a model that is a Gaussian + a constant:\n",
    "    model = GaussianModel(prefix='peak_') + ConstantModel()\n",
    "\n",
    "    # make parameters with starting values:\n",
    "    params = model.make_params(c=1.0, peak_center=mean, peak_sigma=sigma, peak_amplitude=max(Y))\n",
    "    # run fit\n",
    "    result = model.fit(Y, params, x=X)\n",
    "    print('fwhm: ', result.params['peak_fwhm'].value, 'centroid: ', result.params['peak_center'].value)\n",
    "    # find FWHM\n",
    "#    fwhm = 2*np.sqrt(2*np.log(2))*np.abs(fit_stdev)\n",
    "#    cent = fit_mu\n",
    "    return result.params['peak_fwhm'].value, result.params['peak_center'].value"
   ]
  },
  {
   "cell_type": "code",
   "execution_count": 67,
   "metadata": {},
   "outputs": [],
   "source": [
    "@jit(parallel = True)\n",
    "def TraptoCounts(trap_out,k,M):\n",
    "    counts = []\n",
    "    for j in range(0,len(trap_out)):\n",
    "        counts = np.append(counts,np.amax(trap_out[j]))\n",
    "    counts2 = np.trim_zeros(counts)\n",
    "    counts2 = counts2/((M+1)*k)\n",
    "    counts3 = counts2[(counts2>0) & (counts2<1e3)]\n",
    "    yhist, bins_hist = np.histogram(counts3,bins=8196)\n",
    "    return yhist\n",
    "\n",
    "# convert Traps to Counts and then do FWHM on the Peak\n",
    "#plt.figure()\n",
    "#nhist, bins, ign = plt.hist(counts3,bins=8196)"
   ]
  },
  {
   "cell_type": "code",
   "execution_count": 68,
   "metadata": {},
   "outputs": [
    {
     "name": "stdout",
     "output_type": "stream",
     "text": [
      "62486\n",
      "0:00:22.145774\n",
      "fwhm:  22.995295099984617 centroid:  6174.04954207852\n",
      "k= 200\n",
      "0:00:21.973356\n",
      "fwhm:  22.45980147744489 centroid:  6173.471922521028\n",
      "k= 220\n",
      "0:00:16.663330\n",
      "fwhm:  22.100439376399486 centroid:  6173.902048982623\n",
      "k= 240\n",
      "0:00:15.478251\n",
      "fwhm:  21.868787554804232 centroid:  6173.879183128039\n",
      "k= 260\n",
      "0:00:15.816603\n",
      "fwhm:  21.672201654949546 centroid:  6174.342139773912\n",
      "k= 280\n",
      "0:00:14.180267\n",
      "fwhm:  21.674934268877884 centroid:  6174.6386233082\n",
      "k= 300\n",
      "0:00:17.982575\n",
      "fwhm:  21.754811887521186 centroid:  6175.488802760299\n",
      "k= 320\n",
      "0:00:14.156706\n",
      "fwhm:  22.056687865452282 centroid:  6174.808166152958\n",
      "k= 340\n",
      "0:00:11.669751\n",
      "fwhm:  22.37184668582871 centroid:  6175.080927117851\n",
      "k= 360\n",
      "0:00:11.181179\n",
      "fwhm:  22.64943172723405 centroid:  6167.512919550791\n",
      "k= 380\n",
      "0:00:10.651173\n",
      "fwhm:  23.208682227419747 centroid:  6175.012721838265\n",
      "k= 400\n",
      "0:00:10.647241\n",
      "fwhm:  23.37586165130524 centroid:  6175.258909195172\n",
      "k= 420\n",
      "0:00:10.572660\n",
      "fwhm:  23.60655744826383 centroid:  6174.76938888511\n",
      "k= 440\n",
      "0:00:10.686801\n",
      "fwhm:  23.951166978648267 centroid:  6174.261545533295\n",
      "k= 460\n",
      "0:00:13.192777\n",
      "fwhm:  24.287796670144587 centroid:  6173.7958664291755\n",
      "k= 480\n",
      "0:00:12.905666\n",
      "fwhm:  24.612420261392923 centroid:  6174.126868643693\n",
      "k= 500\n",
      "0:00:11.599583\n",
      "fwhm:  24.93176554848309 centroid:  6173.737418225165\n",
      "k= 520\n",
      "0:00:12.210858\n",
      "fwhm:  25.05786905929638 centroid:  6174.091533041946\n",
      "k= 540\n",
      "0:00:12.381922\n",
      "fwhm:  25.221494609685408 centroid:  6174.08313801866\n",
      "k= 560\n",
      "0:00:11.869122\n",
      "fwhm:  25.350853042283703 centroid:  6174.191675980969\n",
      "k= 580\n",
      "0:00:11.526929\n",
      "fwhm:  25.47622201977339 centroid:  6174.184670680622\n",
      "k= 600\n",
      "0:00:11.650570\n",
      "fwhm:  25.68786355030714 centroid:  6174.106800983919\n",
      "k= 620\n",
      "0:00:12.055138\n",
      "fwhm:  25.816626616357667 centroid:  6174.656679521158\n",
      "k= 640\n",
      "0:00:12.061888\n",
      "fwhm:  25.96883880545874 centroid:  6174.762905774797\n",
      "k= 660\n",
      "0:00:13.872291\n",
      "fwhm:  25.930213411869698 centroid:  6175.168166322408\n",
      "k= 680\n",
      "0:00:12.569634\n",
      "fwhm:  26.154092223914066 centroid:  6174.76985726229\n",
      "k= 700\n",
      "0:00:12.122517\n",
      "fwhm:  26.12726884650475 centroid:  6175.1301755826\n",
      "k= 720\n",
      "0:00:11.781748\n",
      "fwhm:  26.153457454581254 centroid:  6175.742955455311\n",
      "k= 740\n",
      "0:00:12.518602\n",
      "fwhm:  26.21419642104369 centroid:  6175.842084822535\n",
      "k= 760\n",
      "0:00:11.536596\n",
      "fwhm:  26.145418754055687 centroid:  6175.714786060468\n",
      "k= 780\n",
      "0:00:12.762063\n",
      "fwhm:  26.121881307458633 centroid:  6175.695656575422\n",
      "k= 800\n",
      "0:00:11.875554\n",
      "fwhm:  26.114491030496445 centroid:  6175.6383737351\n",
      "k= 820\n",
      "0:00:11.539163\n",
      "fwhm:  25.977534846128776 centroid:  6175.540906610169\n",
      "k= 840\n",
      "0:00:11.797870\n",
      "fwhm:  25.766678332234743 centroid:  6175.494399923991\n",
      "k= 860\n",
      "0:00:14.708452\n",
      "fwhm:  25.60686347169159 centroid:  6175.392906990676\n",
      "k= 880\n",
      "0:00:13.412208\n",
      "fwhm:  25.42224172981278 centroid:  6170.692502559779\n",
      "k= 900\n",
      "0:00:13.543751\n",
      "fwhm:  25.318245266987535 centroid:  6175.444536656783\n",
      "k= 920\n",
      "0:00:13.286691\n",
      "fwhm:  24.993987190955185 centroid:  6175.644543909288\n",
      "k= 940\n",
      "0:00:11.280763\n",
      "fwhm:  24.696103208210875 centroid:  6175.794115843652\n",
      "k= 960\n",
      "0:00:11.120814\n",
      "fwhm:  24.376158949070717 centroid:  6175.978333724685\n",
      "k= 980\n",
      "0:00:17.035811\n",
      "fwhm:  24.102744786447428 centroid:  6175.845498328781\n",
      "k= 1000\n",
      "0:00:17.983184\n",
      "fwhm:  23.88997706477047 centroid:  6176.091671931659\n",
      "k= 1020\n",
      "0:00:11.178005\n",
      "fwhm:  23.719699374322087 centroid:  6176.189280263108\n",
      "k= 1040\n",
      "0:00:11.769283\n",
      "fwhm:  23.672376638506297 centroid:  6176.431513440559\n",
      "k= 1060\n",
      "0:00:11.424929\n",
      "fwhm:  23.57619391578178 centroid:  6176.693694768095\n",
      "k= 1080\n",
      "0:00:12.883282\n",
      "fwhm:  23.42211603061708 centroid:  6176.561642440674\n",
      "k= 1100\n",
      "0:00:12.372164\n",
      "fwhm:  23.265385034368535 centroid:  6176.781504069692\n",
      "k= 1120\n",
      "0:00:11.769554\n",
      "fwhm:  23.159176597959682 centroid:  6177.053191148555\n",
      "k= 1140\n",
      "0:00:12.436829\n",
      "fwhm:  22.98269224345017 centroid:  6177.257000685903\n",
      "k= 1160\n",
      "0:00:13.080073\n",
      "fwhm:  22.757052558918943 centroid:  6177.215517046675\n",
      "k= 1180\n",
      "0:14:38.513102\n"
     ]
    }
   ],
   "source": [
    "print(len(mysignals))\n",
    "events = len(mysignals)\n",
    "tau = 5810.79\n",
    "@jit(parallel = True)\n",
    "def find_k(mysignals, events, cols, tau, m):\n",
    "    out_f = []\n",
    "    out_c = []\n",
    "    for k in range(200,1200,20):\n",
    "        processedEvents = eventsProcess(mysignals,events,cols,tau,k,m)\n",
    "        counts = TraptoCounts(processedEvents,k,tau)\n",
    "        out_fwhm, out_cent = FWHM(counts,6000,6500)\n",
    "        out_f.append(out_fwhm)\n",
    "        out_c.append(out_cent)\n",
    "        print('k=',k)\n",
    "    return out_f, out_c\n",
    "\n",
    "startTime = datetime.now()\n",
    "#find k first\n",
    "FWHM_k, cent_k = find_k(mysignals,events,cols,tau,m)\n",
    "\n",
    "print(datetime.now() - startTime)"
   ]
  },
  {
   "cell_type": "code",
   "execution_count": 69,
   "metadata": {},
   "outputs": [
    {
     "data": {
      "image/png": "[encoded data removed]",
      "text/plain": [
       "<Figure size 432x288 with 1 Axes>"
      ]
     },
     "metadata": {
      "needs_background": "light"
     },
     "output_type": "display_data"
    }
   ],
   "source": [
    "plt.figure()\n",
    "fwhm_1 = np.array(FWHM_k)\n",
    "h = np.array(cent_k)\n",
    "fwhm_f = fwhm_1/h\n",
    "plt.plot(range(200,1200,20),fwhm_f)\n",
    "plt.xlabel('k [10ns]')\n",
    "plt.ylabel('FWHM / H ')\n",
    "plt.title('Energy Resolution vs Rise Time')\n",
    "plt.savefig('../images/RvsK.png')"
   ]
  },
  {
   "cell_type": "code",
   "execution_count": null,
   "metadata": {},
   "outputs": [],
   "source": []
  },
  {
   "cell_type": "code",
   "execution_count": null,
   "metadata": {},
   "outputs": [],
   "source": []
  }
 ],
 "metadata": {
  "kernelspec": {
   "display_name": "Python 3",
   "language": "python",
   "name": "python3"
  },
  "language_info": {
   "codemirror_mode": {
    "name": "ipython",
    "version": 3
   },
   "file_extension": ".py",
   "mimetype": "text/x-python",
   "name": "python",
   "nbconvert_exporter": "python",
   "pygments_lexer": "ipython3",
   "version": "3.5.6"
  }
 },
 "nbformat": 4,
 "nbformat_minor": 2
}
