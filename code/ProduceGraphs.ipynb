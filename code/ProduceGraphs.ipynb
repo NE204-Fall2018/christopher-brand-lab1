{
 "cells": [
  {
   "cell_type": "code",
   "execution_count": 4,
   "metadata": {},
   "outputs": [],
   "source": [
    "import numpy as np\n",
    "import matplotlib.pyplot as plt\n",
    "import pandas as pd\n",
    "from scipy.optimize import curve_fit\n",
    "from datetime import datetime\n",
    "from numba import jit, prange\n",
    "import scipy.optimize as opt\n",
    "from gamma_energies import gamma_energies\n",
    "\n",
    "import tables\n",
    "import os"
   ]
  },
  {
   "cell_type": "code",
   "execution_count": 5,
   "metadata": {},
   "outputs": [
    {
     "name": "stdout",
     "output_type": "stream",
     "text": [
      "../data/test_input.h5 (File) ''\n",
      "Last modif.: 'Sun Sep 30 15:01:08 2018'\n",
      "Object Tree: \n",
      "/ (RootGroup) ''\n",
      "/EventData (Table(63734,), shuffle, zlib(1)) ''\n",
      "/RawData (EArray(63734, 4096), shuffle, zlib(1)) ''\n",
      "\n",
      "../data/test_input.h5 (File) ''\n",
      "Last modif.: 'Sun Sep 30 15:01:08 2018'\n",
      "Object Tree: \n",
      "/ (RootGroup) ''\n",
      "/EventData (Table(63734,), shuffle, zlib(1)) ''\n",
      "/RawData (EArray(63734, 4096), shuffle, zlib(1)) ''\n",
      "\n",
      "../data/test_input.h5 (File) ''\n",
      "Last modif.: 'Sun Sep 30 15:01:08 2018'\n",
      "Object Tree: \n",
      "/ (RootGroup) ''\n",
      "/EventData (Table(63734,), shuffle, zlib(1)) ''\n",
      "/RawData (EArray(63734, 4096), shuffle, zlib(1)) ''\n",
      "\n",
      "../data/test_input.h5 (File) ''\n",
      "Last modif.: 'Sun Sep 30 15:01:08 2018'\n",
      "Object Tree: \n",
      "/ (RootGroup) ''\n",
      "/EventData (Table(63734,), shuffle, zlib(1)) ''\n",
      "/RawData (EArray(63734, 4096), shuffle, zlib(1)) ''\n",
      "\n",
      "../data/test_input.h5 (File) ''\n",
      "Last modif.: 'Sun Sep 30 15:01:08 2018'\n",
      "Object Tree: \n",
      "/ (RootGroup) ''\n",
      "/EventData (Table(63734,), shuffle, zlib(1)) ''\n",
      "/RawData (EArray(63734, 4096), shuffle, zlib(1)) ''\n",
      "\n"
     ]
    }
   ],
   "source": [
    "h5file = tables.open_file(\"../data/test_input.h5\", driver=\"H5FD_CORE\")\n",
    "print(h5file)\n",
    "data = h5file.root.RawData\n",
    "EventData = h5file.root.EventData\n",
    "\n",
    "h5file2 = tables.open_file(\"../data/cs137_co60.h5\", driver=\"H5FD_CORE\")\n",
    "print(h5file)\n",
    "data_CsCo = h5file.root.RawData\n",
    "EventData_CsCo = h5file.root.EventData\n",
    "\n",
    "h5file3 = tables.open_file(\"../data/co57.h5\", driver=\"H5FD_CORE\")\n",
    "print(h5file)\n",
    "data_Co = h5file.root.RawData\n",
    "EventData_Co = h5file.root.EventData\n",
    "\n",
    "h5file4 = tables.open_file(\"../data/ba133.h5\", driver=\"H5FD_CORE\")\n",
    "print(h5file)\n",
    "data_Ba = h5file.root.RawData\n",
    "EventData_Ba = h5file.root.EventData\n",
    "\n",
    "h5file5 = tables.open_file(\"../data/am241.h5\", driver=\"H5FD_CORE\")\n",
    "print(h5file)\n",
    "data_Am = h5file.root.RawData\n",
    "EventData_Am = h5file.root.EventData\n"
   ]
  },
  {
   "cell_type": "code",
   "execution_count": 6,
   "metadata": {},
   "outputs": [],
   "source": [
    "# Find pulses that triggered multiple times and delete them\n",
    "def pileupRM(EventData, data):\n",
    "    i_pileup = 0\n",
    "    j_pileup = 0\n",
    "    pileup_args = np.array([])\n",
    "    EventDataArray = np.array(EventData)\n",
    "\n",
    "    for x in range(len(EventData)):\n",
    "        if int(EventData[x][3])>1:\n",
    "            pileup_args = np.append(pileup_args,i_pileup)\n",
    "            j_pileup = j_pileup+1  \n",
    "        i_pileup = i_pileup+1\n",
    "\n",
    "    data = np.delete(data[:], pileup_args, 0)\n",
    "    \n",
    "    print('deleted ', len(pileup_args),' signals due to pile up')\n",
    "    return data\n"
   ]
  },
  {
   "cell_type": "code",
   "execution_count": 7,
   "metadata": {},
   "outputs": [
    {
     "name": "stderr",
     "output_type": "stream",
     "text": [
      "/Users/DragonKnight/miniconda3/lib/python3.5/site-packages/ipykernel_launcher.py:14: DeprecationWarning: using a non-integer array as obj in delete will result in an error in the future\n",
      "  \n"
     ]
    },
    {
     "name": "stdout",
     "output_type": "stream",
     "text": [
      "deleted  1248  signals due to pile up\n",
      "deleted  1248  signals due to pile up\n",
      "deleted  1248  signals due to pile up\n",
      "deleted  1248  signals due to pile up\n",
      "deleted  1248  signals due to pile up\n"
     ]
    }
   ],
   "source": [
    "data1 = pileupRM(EventData, data)\n",
    "data2 = pileupRM(EventData_CsCo, data_CsCo)\n",
    "data3 = pileupRM(EventData_Co, data_Co)\n",
    "data4 = pileupRM(EventData_Ba, data_Ba)\n",
    "data5 = pileupRM(EventData_Am, data_Am)"
   ]
  },
  {
   "cell_type": "code",
   "execution_count": 8,
   "metadata": {},
   "outputs": [],
   "source": [
    "@jit(parallel = True)\n",
    "def baseLineReduction(mysignal):\n",
    "    avgNoise = np.mean(mysignal[0:1000])\n",
    "    return mysignal-avgNoise"
   ]
  },
  {
   "cell_type": "code",
   "execution_count": 9,
   "metadata": {},
   "outputs": [],
   "source": [
    "@jit(parallel = True)\n",
    "def TrapFilter(mysignal,tau):\n",
    "\n",
    "    signalOnly = baseLineReduction(mysignal) \n",
    "\n",
    "    m=32\n",
    "    \n",
    "    #k = peaking time\n",
    "    #m= Gap time (in samples)\n",
    "    k=200\n",
    "    M = tau\n",
    "    Acc1=0.0\n",
    "    Acc2=0.0\n",
    "\n",
    "    i=0\n",
    "    zeros = np.zeros(2*k+m)\n",
    "    extSignalOnly=np.append(zeros,signalOnly)\n",
    "    final = np.zeros(len(signalOnly))\n",
    "    for i in range(len(signalOnly)):\n",
    "        parta = extSignalOnly[i+(2*k+m)] - extSignalOnly[i-k+(2*k+m)]\n",
    "        partb = extSignalOnly[i-2*k-m+(2*k+m)] - extSignalOnly[i-k-m+(2*k+m)]\n",
    "        partc = parta + partb\n",
    "        Acc1 = Acc1+partc\n",
    "        partd = partc*M+Acc1\n",
    "        Acc2 = Acc2 + partd\n",
    "        final[i] = Acc2\n",
    "        i=i+1\n",
    "    \n",
    "    normFinal = np.array(final)\n",
    "    return normFinal"
   ]
  },
  {
   "cell_type": "code",
   "execution_count": null,
   "metadata": {},
   "outputs": [
    {
     "name": "stdout",
     "output_type": "stream",
     "text": [
      "63734\n"
     ]
    }
   ],
   "source": [
    "rows = len(data[:,0])\n",
    "print(rows)\n",
    "cols = len(data[0,:])\n",
    "mysignals = np.zeros((rows,cols))\n",
    "\n",
    "@jit(parallel = True)\n",
    "def makesignals(raw_data):\n",
    "    for j in range(0,rows):\n",
    "        mysignals[j] = data[j,:]\n",
    "    return mysignals\n",
    "\n",
    "startTime = datetime.now()\n",
    "\n",
    "mysignals1 = makesignals(data1)\n",
    "mysignals2 = makesignals(data2)\n",
    "mysignals3 = makesignals(data3)\n",
    "mysignals4 = makesignals(data4)\n",
    "mysignals5 = makesignals(data5)\n",
    "\n",
    "print(datetime.now() - startTime)"
   ]
  },
  {
   "cell_type": "code",
   "execution_count": null,
   "metadata": {},
   "outputs": [],
   "source": [
    "@jit(parallel = True)\n",
    "def func(x, a, b):\n",
    "    return a * np.exp(-b * x)"
   ]
  },
  {
   "cell_type": "code",
   "execution_count": null,
   "metadata": {},
   "outputs": [],
   "source": [
    "@jit(parallel = True)\n",
    "def eventsProcess(mysignals, events, cols):\n",
    "    startTime = datetime.now()\n",
    "    trap_out = np.zeros((events,cols))\n",
    "    for j in range(0,events):\n",
    "        trap_out[j] = TrapFilter(mysignals[j,:],5810.8)\n",
    "    print(datetime.now() - startTime)\n",
    "    return trap_out"
   ]
  },
  {
   "cell_type": "code",
   "execution_count": null,
   "metadata": {},
   "outputs": [],
   "source": [
    "print(len(mysignals))\n",
    "events = len(mysignals)\n",
    "trap_out1 = eventsProcess(mysignals1, events, cols)\n",
    "trap_out2 = eventsProcess(mysignals2, events, cols)\n",
    "trap_out3 = eventsProcess(mysignals3, events, cols)\n",
    "trap_out4 = eventsProcess(mysignals4, events, cols)\n",
    "trap_out5 = eventsProcess(mysignals5, events, cols)"
   ]
  },
  {
   "cell_type": "code",
   "execution_count": null,
   "metadata": {},
   "outputs": [],
   "source": [
    "plt.figure(figsize=(15,5))\n",
    "a_signal1 = baseLineReduction(mysignals1[10][:])\n",
    "a_signal2 = baseLineReduction(mysignals2[100][:])\n",
    "a_signal3 = baseLineReduction(mysignals3[1000][:])\n",
    "a_signal4 = baseLineReduction(mysignals4[10000][:])\n",
    "a_signal5 = baseLineReduction(mysignals5[50000][:])\n",
    "\n",
    "plt.subplot(231)\n",
    "plt.plot(a_signal1[:]/np.amax(a_signal1))\n",
    "plt.plot(trap_out1[10][:]/np.amax(trap_out1[10][:]))\n",
    "plt.xlabel('time [10ns]')\n",
    "plt.ylabel('normalized to max value')\n",
    "plt.title('Test Pulse')\n",
    "\n",
    "plt.subplot(232)\n",
    "plt.plot(a_signal2[:]/np.amax(a_signal2))\n",
    "plt.plot(trap_out2[100][:]/np.amax(trap_out2[100][:]))\n",
    "plt.xlabel('time [10ns]')\n",
    "plt.ylabel('normalized to max value')\n",
    "plt.title('Cs137 and Co60 Source')\n",
    "\n",
    "plt.subplot(233)\n",
    "plt.plot(a_signal3[:]/np.amax(a_signal3))\n",
    "plt.plot(trap_out3[1000][:]/np.amax(trap_out3[1000][:]))\n",
    "plt.xlabel('time [10ns]')\n",
    "plt.ylabel('normalized to max value')\n",
    "plt.title('Co57 source')\n",
    "\n",
    "plt.subplot(234)\n",
    "plt.plot(a_signal4[:]/np.amax(a_signal4))\n",
    "plt.plot(trap_out4[10000][:]/np.amax(trap_out4[10000][:]))\n",
    "plt.xlabel('time [10ns]')\n",
    "plt.ylabel('normalized to max value')\n",
    "plt.title('Ba133 Source')\n",
    "\n",
    "plt.subplot(235)\n",
    "plt.plot(a_signal5[:]/np.amax(a_signal5))\n",
    "plt.plot(trap_out5[50000][:]/np.amax(trap_out5[50000][:]))\n",
    "plt.xlabel('time [10ns]')\n",
    "plt.ylabel('normalized to max value')\n",
    "plt.title('Am241 Source')\n",
    "\n",
    "plt.subplots_adjust(hspace = 1, wspace = 0.2)\n",
    "plt.suptitle('Signal Before and After Trapozoid filter')\n",
    "plt.savefig('images/5signals.png')"
   ]
  },
  {
   "cell_type": "code",
   "execution_count": null,
   "metadata": {},
   "outputs": [],
   "source": [
    "counts1 = []\n",
    "for j in range(0,len(trap_out1)):\n",
    "    counts1 = np.append(counts1,np.amax(trap_out1[j]))\n",
    "    \n",
    "counts2 = []\n",
    "for j in range(0,len(trap_out2)):\n",
    "    counts2 = np.append(counts2,np.amax(trap_out2[j]))\n",
    "    \n",
    "counts3 = []\n",
    "for j in range(0,len(trap_out3)):\n",
    "    counts3 = np.append(counts3,np.amax(trap_out3[j]))\n",
    "    \n",
    "counts4 = []\n",
    "for j in range(0,len(trap_out4)):\n",
    "    counts4 = np.append(counts4,np.amax(trap_out4[j]))\n",
    "    \n",
    "counts5 = []\n",
    "for j in range(0,len(trap_out5)):\n",
    "    counts5 = np.append(counts5,np.amax(trap_out5[j]))"
   ]
  },
  {
   "cell_type": "code",
   "execution_count": null,
   "metadata": {},
   "outputs": [],
   "source": [
    "@jit(parallel = True)\n",
    "def createHist(counts,k,M, upperlim):\n",
    "    counts2 = np.trim_zeros(counts)\n",
    "    counts2 = counts2/((M+1)*k)\n",
    "    counts3 = counts2[(counts2>0) & (counts2<upperlim)]\n",
    "\n",
    "    yhist, bins_hist = np.histogram(counts3,bins=8196)\n",
    "    return yhist\n",
    "\n",
    "k=740.0\n",
    "M = 5810.8\n",
    "\n",
    "yhist1 = createHist(counts1,k,M,5.7e2)\n",
    "yhist2 = createHist(counts2,k,M,5e2)\n",
    "yhist3 = createHist(counts3,k,M,5.5e2)\n",
    "yhist4 = createHist(counts4,k,M,5.7e2)\n",
    "yhist5 = createHist(counts5,k,M,5.7e2)\n",
    "\n"
   ]
  },
  {
   "cell_type": "code",
   "execution_count": null,
   "metadata": {},
   "outputs": [],
   "source": [
    "plt.figure(figsize=(15,5))\n",
    "\n",
    "plt.subplot(231)\n",
    "plt.bar(range(8196),yhist1, width=1.0)\n",
    "plt.xlabel('Bins')\n",
    "plt.ylabel('Counts')\n",
    "plt.title('Test Pulse')\n",
    "plt.xlim(0,5000)\n",
    "\n",
    "plt.subplot(232)\n",
    "plt.bar(range(8196),yhist2, width=1.0)\n",
    "plt.xlabel('Bins')\n",
    "plt.ylabel('Counts')\n",
    "plt.title('Cs137 and Co60 Source')\n",
    "plt.xlim(0,5000)\n",
    "\n",
    "plt.subplot(233)\n",
    "plt.bar(range(8196),yhist3, width=1.0)\n",
    "plt.xlabel('Bins')\n",
    "plt.ylabel('Counts')\n",
    "plt.title('Co57 Source')\n",
    "plt.xlim(0,5000)\n",
    "\n",
    "plt.subplot(234)\n",
    "plt.bar(range(8196),yhist4, width=1.0)\n",
    "plt.xlabel('Bins')\n",
    "plt.ylabel('Counts')\n",
    "plt.title('Ba133 Source')\n",
    "plt.xlim(0,5000)\n",
    "\n",
    "plt.subplot(235)\n",
    "plt.bar(range(8196),yhist5, width=1.0)\n",
    "plt.xlabel('Bins')\n",
    "plt.ylabel('Counts')\n",
    "plt.title('Am241 Source')\n",
    "plt.xlim(0,5000)\n",
    "\n",
    "plt.subplots_adjust(hspace = 1, wspace = 0.5)\n",
    "plt.suptitle('Energy Spectra')\n",
    "plt.savefig('images/BinnedData.png')"
   ]
  },
  {
   "cell_type": "code",
   "execution_count": null,
   "metadata": {},
   "outputs": [],
   "source": [
    "def gauss(x, a, u, sig): # p[0]==mean, p[1]==stdev\n",
    "#    return 1.0/(sig*np.sqrt(2.0*np.pi))*np.exp(-(x-u)**2.0/(2.0*sig**2.0))\n",
    "    return a*np.exp(-(x-u)**2.0/(2.0*sig**2.0))\n",
    "\n",
    "def FWHM(counts,lower_bound,upper_bound):\n",
    "    X = range(lower_bound, upper_bound)\n",
    "    Y = counts[lower_bound:upper_bound]\n",
    "    # Fit a guassian\n",
    "    mean = sum(X * Y) / sum(Y)\n",
    "    sigma = np.sqrt(sum(Y * (X - mean)**2) / sum(Y))\n",
    "    print(sigma)\n",
    "    pi = [max(Y), mean,sigma]\n",
    "    popt, pcov = curve_fit(gauss, X, Y, p0=pi)\n",
    "    print(popt)\n",
    "    fit_a, fit_mu, fit_stdev = popt\n",
    "    plt.plot(X,gauss(X,*popt),'r')\n",
    "    plt.bar(X,Y, width=1.0)\n",
    "    plt.xlim(lower_bound,upper_bound)\n",
    "\n",
    "    return 2*np.sqrt(2*np.log(2))*np.abs(fit_stdev)"
   ]
  },
  {
   "cell_type": "code",
   "execution_count": null,
   "metadata": {},
   "outputs": [],
   "source": [
    "\n",
    "print(FWHM(yhist,5200,5700))"
   ]
  },
  {
   "cell_type": "code",
   "execution_count": null,
   "metadata": {},
   "outputs": [],
   "source": []
  }
 ],
 "metadata": {
  "kernelspec": {
   "display_name": "Python 3",
   "language": "python",
   "name": "python3"
  },
  "language_info": {
   "codemirror_mode": {
    "name": "ipython",
    "version": 3
   },
   "file_extension": ".py",
   "mimetype": "text/x-python",
   "name": "python",
   "nbconvert_exporter": "python",
   "pygments_lexer": "ipython3",
   "version": "3.5.6"
  }
 },
 "nbformat": 4,
 "nbformat_minor": 2
}
